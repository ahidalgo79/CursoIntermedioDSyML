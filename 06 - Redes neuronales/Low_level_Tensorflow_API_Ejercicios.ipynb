{
  "cells": [
    {
      "cell_type": "markdown",
      "metadata": {
        "id": "hlj7HOMjPZ1C"
      },
      "source": [
        "# Low-Level TensorFlow API"
      ]
    },
    {
      "cell_type": "markdown",
      "metadata": {
        "id": "MB_P4Z6hPZ1F"
      },
      "source": [
        "In this notebook you will learn how to use TensorFlow's low-level API, then use it to build custom loss functions, as well as custom Keras layers and models.\n",
        "\n",
        "<table align=\"left\">\n",
        "  <td>\n",
        "    <a target=\"_blank\" href=\"https://colab.research.google.com/github/ageron/tf2_course/blob/master/02_low_level_tensorflow_api.ipynb\"><img src=\"https://www.tensorflow.org/images/colab_logo_32px.png\" />Run in Google Colab</a>\n",
        "  </td>\n",
        "</table>"
      ]
    },
    {
      "cell_type": "markdown",
      "metadata": {
        "id": "DbBTz-38PZ1H"
      },
      "source": [
        "## Imports"
      ]
    },
    {
      "cell_type": "code",
      "execution_count": null,
      "metadata": {
        "id": "y77jGevhPZ1J"
      },
      "outputs": [],
      "source": [
        "%matplotlib inline"
      ]
    },
    {
      "cell_type": "code",
      "execution_count": null,
      "metadata": {
        "id": "5jyRxPXsPZ1L"
      },
      "outputs": [],
      "source": [
        "import matplotlib as mpl\n",
        "import matplotlib.pyplot as plt\n",
        "import numpy as np\n",
        "import os\n",
        "import pandas as pd\n",
        "import sklearn\n",
        "import sys\n",
        "import tensorflow as tf\n",
        "from tensorflow import keras\n",
        "import time"
      ]
    },
    {
      "cell_type": "code",
      "execution_count": null,
      "metadata": {
        "id": "eReiJhGLPZ1M"
      },
      "outputs": [],
      "source": [
        "print(\"python\", sys.version)\n",
        "for module in mpl, np, pd, sklearn, tf, keras:\n",
        "    print(module.__name__, module.__version__)"
      ]
    },
    {
      "cell_type": "code",
      "execution_count": null,
      "metadata": {
        "id": "yJuDYl8APZ1N"
      },
      "outputs": [],
      "source": [
        "assert sys.version_info >= (3, 5) # Python ≥3.5 required\n",
        "assert tf.__version__ >= \"2.0\"    # TensorFlow ≥2.0 required"
      ]
    },
    {
      "cell_type": "markdown",
      "metadata": {
        "id": "cgHkomHDPZ1P"
      },
      "source": [
        "## Tensors and operations"
      ]
    },
    {
      "cell_type": "markdown",
      "metadata": {
        "id": "5jGHfaeIPZ1Q"
      },
      "source": [
        "You can browse through the code examples or jump directly to the exercises."
      ]
    },
    {
      "cell_type": "markdown",
      "metadata": {
        "id": "blCdY39xPZ1S"
      },
      "source": [
        "### Tensors"
      ]
    },
    {
      "cell_type": "code",
      "execution_count": null,
      "metadata": {
        "id": "0HjuOnqoPZ1T"
      },
      "outputs": [],
      "source": [
        "t = tf.constant([[1., 2., 3.], [4., 5., 6.]])\n",
        "t"
      ]
    },
    {
      "cell_type": "code",
      "execution_count": null,
      "metadata": {
        "id": "zOgh5wCQPZ1U"
      },
      "outputs": [],
      "source": [
        "t.shape"
      ]
    },
    {
      "cell_type": "code",
      "execution_count": null,
      "metadata": {
        "id": "INp_IztpPZ1V"
      },
      "outputs": [],
      "source": [
        "t.dtype"
      ]
    },
    {
      "cell_type": "markdown",
      "metadata": {
        "id": "8flqpsDfPZ1W"
      },
      "source": [
        "### Indexing"
      ]
    },
    {
      "cell_type": "code",
      "execution_count": null,
      "metadata": {
        "id": "cFaRyLY-PZ1X"
      },
      "outputs": [],
      "source": [
        "t[:, 1:]"
      ]
    },
    {
      "cell_type": "code",
      "execution_count": null,
      "metadata": {
        "id": "-F0TGPnMPZ1Y"
      },
      "outputs": [],
      "source": [
        "t[..., 1, tf.newaxis]"
      ]
    },
    {
      "cell_type": "markdown",
      "metadata": {
        "id": "PhYxRjnjPZ1Y"
      },
      "source": [
        "### Ops"
      ]
    },
    {
      "cell_type": "code",
      "execution_count": null,
      "metadata": {
        "id": "2UnHNpVTPZ1Z"
      },
      "outputs": [],
      "source": [
        "t + 10"
      ]
    },
    {
      "cell_type": "code",
      "execution_count": null,
      "metadata": {
        "id": "wnyOlG_VPZ1a"
      },
      "outputs": [],
      "source": [
        "tf.square(t)"
      ]
    },
    {
      "cell_type": "code",
      "execution_count": null,
      "metadata": {
        "id": "Nbj6L25MPZ1a"
      },
      "outputs": [],
      "source": [
        "t @ tf.transpose(t)"
      ]
    },
    {
      "cell_type": "markdown",
      "metadata": {
        "id": "YW2CGbZ_PZ1b"
      },
      "source": [
        "### To/From NumPy"
      ]
    },
    {
      "cell_type": "code",
      "execution_count": null,
      "metadata": {
        "id": "3kKhhfQwPZ1b"
      },
      "outputs": [],
      "source": [
        "t.numpy()"
      ]
    },
    {
      "cell_type": "code",
      "execution_count": null,
      "metadata": {
        "id": "VjaW9_lAPZ1c"
      },
      "outputs": [],
      "source": [
        "a = np.array([[1., 2., 3.], [4., 5., 6.]])\n",
        "tf.constant(a)"
      ]
    },
    {
      "cell_type": "code",
      "execution_count": null,
      "metadata": {
        "id": "XZfTXrdXPZ1c"
      },
      "outputs": [],
      "source": [
        "t = tf.constant([[1., 2., 3.], [4., 5., 6.]])\n",
        "np.square(t)"
      ]
    },
    {
      "cell_type": "markdown",
      "metadata": {
        "id": "6ETleT94PZ1d"
      },
      "source": [
        "### Scalars"
      ]
    },
    {
      "cell_type": "code",
      "execution_count": null,
      "metadata": {
        "id": "zdYD1Mq6PZ1e"
      },
      "outputs": [],
      "source": [
        "t = tf.constant(2.718)\n",
        "t"
      ]
    },
    {
      "cell_type": "code",
      "execution_count": null,
      "metadata": {
        "id": "vpmEkxAEPZ1e"
      },
      "outputs": [],
      "source": [
        "t.shape"
      ]
    },
    {
      "cell_type": "code",
      "execution_count": null,
      "metadata": {
        "id": "imv3JXptPZ1f"
      },
      "outputs": [],
      "source": [
        "t.numpy()"
      ]
    },
    {
      "cell_type": "markdown",
      "metadata": {
        "id": "5jPVnRw0PZ1f"
      },
      "source": [
        "### Conflicting Types"
      ]
    },
    {
      "cell_type": "code",
      "execution_count": null,
      "metadata": {
        "id": "s1X-Nuk8PZ1f"
      },
      "outputs": [],
      "source": [
        "try:\n",
        "    tf.constant(1) + tf.constant(1.0)\n",
        "except tf.errors.InvalidArgumentError as ex:\n",
        "    print(ex)"
      ]
    },
    {
      "cell_type": "code",
      "execution_count": null,
      "metadata": {
        "id": "4vi4g0aQPZ1g"
      },
      "outputs": [],
      "source": [
        "try:\n",
        "    tf.constant(1.0, dtype=tf.float64) + tf.constant(1.0)\n",
        "except tf.errors.InvalidArgumentError as ex:\n",
        "    print(ex)"
      ]
    },
    {
      "cell_type": "code",
      "execution_count": null,
      "metadata": {
        "id": "sf2VDyYqPZ1g"
      },
      "outputs": [],
      "source": [
        "t = tf.constant(1.0, dtype=tf.float64)\n",
        "tf.cast(t, tf.float32) + tf.constant(1.0)"
      ]
    },
    {
      "cell_type": "markdown",
      "metadata": {
        "id": "qjj3xXYJPZ1h"
      },
      "source": [
        "### Strings"
      ]
    },
    {
      "cell_type": "code",
      "execution_count": null,
      "metadata": {
        "id": "rn2haPD_PZ1i"
      },
      "outputs": [],
      "source": [
        "t = tf.constant(\"café\")\n",
        "t"
      ]
    },
    {
      "cell_type": "code",
      "execution_count": null,
      "metadata": {
        "id": "TkRM7m2KPZ1j"
      },
      "outputs": [],
      "source": [
        "tf.strings.length(t)"
      ]
    },
    {
      "cell_type": "code",
      "execution_count": null,
      "metadata": {
        "id": "HGoORiTRPZ1j"
      },
      "outputs": [],
      "source": [
        "tf.strings.length(t, unit=\"UTF8_CHAR\")"
      ]
    },
    {
      "cell_type": "code",
      "execution_count": null,
      "metadata": {
        "id": "6Ouh_E1IPZ1k"
      },
      "outputs": [],
      "source": [
        "tf.strings.unicode_decode(t, \"UTF8\")"
      ]
    },
    {
      "cell_type": "markdown",
      "metadata": {
        "id": "qZlhWn2YPZ1k"
      },
      "source": [
        "### String arrays"
      ]
    },
    {
      "cell_type": "code",
      "execution_count": null,
      "metadata": {
        "id": "iVjSWOODPZ1l"
      },
      "outputs": [],
      "source": [
        "t = tf.constant([\"Café\", \"Coffee\", \"caffè\", \"咖啡\"])"
      ]
    },
    {
      "cell_type": "code",
      "execution_count": null,
      "metadata": {
        "id": "6DrcUUGTPZ1m"
      },
      "outputs": [],
      "source": [
        "tf.strings.length(t, unit=\"UTF8_CHAR\")"
      ]
    },
    {
      "cell_type": "code",
      "execution_count": null,
      "metadata": {
        "id": "TdsKWD6uPZ1m"
      },
      "outputs": [],
      "source": [
        "r = tf.strings.unicode_decode(t, \"UTF8\")\n",
        "r"
      ]
    },
    {
      "cell_type": "markdown",
      "metadata": {
        "id": "3XPbbQGKPZ1n"
      },
      "source": [
        "### Ragged tensors"
      ]
    },
    {
      "cell_type": "code",
      "execution_count": null,
      "metadata": {
        "id": "nERAolWaPZ1n"
      },
      "outputs": [],
      "source": [
        "r = tf.ragged.constant([[11, 12], [21, 22, 23], [], [41]])\n",
        "r"
      ]
    },
    {
      "cell_type": "code",
      "execution_count": null,
      "metadata": {
        "id": "Qh5N98bEPZ1o"
      },
      "outputs": [],
      "source": [
        "print(r)"
      ]
    },
    {
      "cell_type": "code",
      "execution_count": null,
      "metadata": {
        "id": "e3IuUIGoPZ1p"
      },
      "outputs": [],
      "source": [
        "print(r[1])"
      ]
    },
    {
      "cell_type": "code",
      "execution_count": null,
      "metadata": {
        "id": "HRoaWb7vPZ1p"
      },
      "outputs": [],
      "source": [
        "print(r[1:2])"
      ]
    },
    {
      "cell_type": "code",
      "execution_count": null,
      "metadata": {
        "id": "agQUxDkiPZ1q"
      },
      "outputs": [],
      "source": [
        "r2 = tf.ragged.constant([[51, 52], [], [71]])\n",
        "print(tf.concat([r, r2], axis=0))"
      ]
    },
    {
      "cell_type": "code",
      "execution_count": null,
      "metadata": {
        "id": "CDWDyxhHPZ1q"
      },
      "outputs": [],
      "source": [
        "r3 = tf.ragged.constant([[13, 14, 15], [24], [], [42, 43]])\n",
        "print(tf.concat([r, r3], axis=1))"
      ]
    },
    {
      "cell_type": "code",
      "execution_count": null,
      "metadata": {
        "id": "zgTqd4SGPZ1r"
      },
      "outputs": [],
      "source": [
        "r.to_tensor()"
      ]
    },
    {
      "cell_type": "markdown",
      "metadata": {
        "id": "96Z_jXIePZ1s"
      },
      "source": [
        "### Sparse tensors"
      ]
    },
    {
      "cell_type": "code",
      "execution_count": null,
      "metadata": {
        "id": "EEZi0ugSPZ1t"
      },
      "outputs": [],
      "source": [
        "s = tf.SparseTensor(indices=[[0, 1], [1, 0], [2, 3]],\n",
        "                    values=[1., 2., 3.],\n",
        "                    dense_shape=[3, 4])\n",
        "print(s)"
      ]
    },
    {
      "cell_type": "code",
      "execution_count": null,
      "metadata": {
        "id": "y3lBn6lRPZ1t"
      },
      "outputs": [],
      "source": [
        "tf.sparse.to_dense(s)"
      ]
    },
    {
      "cell_type": "code",
      "execution_count": null,
      "metadata": {
        "id": "VVTlW4qnPZ1u"
      },
      "outputs": [],
      "source": [
        "s2 = s * 2.0"
      ]
    },
    {
      "cell_type": "code",
      "execution_count": null,
      "metadata": {
        "id": "aT0FOHunPZ1u"
      },
      "outputs": [],
      "source": [
        "try:\n",
        "    s3 = s + 1.\n",
        "except TypeError as ex:\n",
        "    print(ex)"
      ]
    },
    {
      "cell_type": "code",
      "execution_count": null,
      "metadata": {
        "id": "9AqfiN6pPZ1v"
      },
      "outputs": [],
      "source": [
        "s4 = tf.constant([[10., 20.], [30., 40.], [50., 60.], [70., 80.]])\n",
        "tf.sparse.sparse_dense_matmul(s, s4)"
      ]
    },
    {
      "cell_type": "code",
      "execution_count": null,
      "metadata": {
        "id": "RjrLvs5mPZ1v"
      },
      "outputs": [],
      "source": [
        "s5 = tf.SparseTensor(indices=[[0, 2], [0, 1]],\n",
        "                     values=[1., 2.],\n",
        "                     dense_shape=[3, 4])\n",
        "print(s5)"
      ]
    },
    {
      "cell_type": "code",
      "execution_count": null,
      "metadata": {
        "id": "NXqhNhl_PZ1w"
      },
      "outputs": [],
      "source": [
        "try:\n",
        "    tf.sparse.to_dense(s5)\n",
        "except tf.errors.InvalidArgumentError as ex:\n",
        "    print(ex)"
      ]
    },
    {
      "cell_type": "code",
      "execution_count": null,
      "metadata": {
        "id": "dlMuer9-PZ1w"
      },
      "outputs": [],
      "source": [
        "s6 = tf.sparse.reorder(s5)\n",
        "tf.sparse.to_dense(s6)"
      ]
    },
    {
      "cell_type": "markdown",
      "metadata": {
        "id": "sx0VeNWMPZ1x"
      },
      "source": [
        "### Variables"
      ]
    },
    {
      "cell_type": "code",
      "execution_count": null,
      "metadata": {
        "id": "wxQuixg7PZ1y"
      },
      "outputs": [],
      "source": [
        "v = tf.Variable([[1., 2., 3.], [4., 5., 6.]])\n",
        "v"
      ]
    },
    {
      "cell_type": "code",
      "execution_count": null,
      "metadata": {
        "id": "ZIJ5ogDQPZ1y"
      },
      "outputs": [],
      "source": [
        "v.value()"
      ]
    },
    {
      "cell_type": "code",
      "execution_count": null,
      "metadata": {
        "id": "Jc2lw3MLPZ1y"
      },
      "outputs": [],
      "source": [
        "v.numpy()"
      ]
    },
    {
      "cell_type": "code",
      "execution_count": null,
      "metadata": {
        "id": "X9UAKu_6PZ1z"
      },
      "outputs": [],
      "source": [
        "v.assign(2 * v)"
      ]
    },
    {
      "cell_type": "code",
      "execution_count": null,
      "metadata": {
        "id": "lF7Ow8SbPZ10"
      },
      "outputs": [],
      "source": [
        "v[0, 1].assign(42)"
      ]
    },
    {
      "cell_type": "code",
      "execution_count": null,
      "metadata": {
        "id": "t9UIvTe5PZ10"
      },
      "outputs": [],
      "source": [
        "v[1].assign([7., 8., 9.])"
      ]
    },
    {
      "cell_type": "code",
      "execution_count": null,
      "metadata": {
        "id": "VVt4P0GRPZ11"
      },
      "outputs": [],
      "source": [
        "try:\n",
        "    v[1] = [7., 8., 9.]\n",
        "except TypeError as ex:\n",
        "    print(ex)"
      ]
    },
    {
      "cell_type": "code",
      "execution_count": null,
      "metadata": {
        "id": "w32d6jhAPZ11"
      },
      "outputs": [],
      "source": [
        "sparse_delta = tf.IndexedSlices(values=[[1., 2., 3.], [4., 5., 6.]],\n",
        "                                indices=[1, 0])\n",
        "v.scatter_update(sparse_delta)"
      ]
    },
    {
      "cell_type": "code",
      "execution_count": null,
      "metadata": {
        "id": "0o8ufo1YPZ12"
      },
      "outputs": [],
      "source": [
        "v.scatter_nd_update(indices=[[0, 0], [1, 2]],\n",
        "                    updates=[100., 200.])"
      ]
    },
    {
      "cell_type": "markdown",
      "metadata": {
        "id": "j31iFv29PZ12"
      },
      "source": [
        "### Devices"
      ]
    },
    {
      "cell_type": "code",
      "execution_count": null,
      "metadata": {
        "id": "ehQEsE4WPZ13"
      },
      "outputs": [],
      "source": [
        "with tf.device(\"/cpu:0\"):\n",
        "    t = tf.constant([[1., 2., 3.], [4., 5., 6.]])"
      ]
    },
    {
      "cell_type": "code",
      "execution_count": null,
      "metadata": {
        "id": "lBrezheBPZ14"
      },
      "outputs": [],
      "source": [
        "t.device"
      ]
    },
    {
      "cell_type": "code",
      "execution_count": null,
      "metadata": {
        "id": "qWcDWCutPZ14"
      },
      "outputs": [],
      "source": [
        "if tf.config.list_physical_devices('GPU'):\n",
        "    with tf.device(\"/gpu:0\"):\n",
        "        t2 = tf.constant([[1., 2., 3.], [4., 5., 6.]])\n",
        "    print(t2.device)"
      ]
    },
    {
      "cell_type": "markdown",
      "metadata": {
        "id": "mxZdT8rRPZ15"
      },
      "source": [
        "## Exercise 1 – Custom loss function"
      ]
    },
    {
      "cell_type": "markdown",
      "metadata": {
        "id": "P-cN9nm_PZ17"
      },
      "source": [
        "Let's start by loading and preparing the California housing dataset. We first load it, then split it into a training set, a validation set and a test set, and finally we scale it:"
      ]
    },
    {
      "cell_type": "code",
      "execution_count": null,
      "metadata": {
        "id": "ZdN43J5TPZ17"
      },
      "outputs": [],
      "source": [
        "from sklearn.datasets import fetch_california_housing\n",
        "from sklearn.model_selection import train_test_split\n",
        "from sklearn.preprocessing import StandardScaler\n",
        "\n",
        "housing = fetch_california_housing()\n",
        "X_train_full, X_test, y_train_full, y_test = train_test_split(\n",
        "    housing.data, housing.target.reshape(-1, 1), random_state=42)\n",
        "X_train, X_valid, y_train, y_valid = train_test_split(\n",
        "    X_train_full, y_train_full, random_state=42)\n",
        "\n",
        "scaler = StandardScaler()\n",
        "X_train_scaled = scaler.fit_transform(X_train)\n",
        "X_valid_scaled = scaler.transform(X_valid)\n",
        "X_test_scaled = scaler.transform(X_test)"
      ]
    },
    {
      "cell_type": "markdown",
      "metadata": {
        "id": "4ZPVsw6TPZ17"
      },
      "source": [
        "### 1.1)\n",
        "Create an `my_mse()` function with two arguments: the true labels `y_true` and the model predictions `y_pred`. Make it return the mean squared error using TensorFlow operations. Note that you could write your own custom metrics in exactly the same way. **Tip**: recall that the MSE is the mean of the squares of prediction errors, which are the differences between the predictions and the labels, so you will need to use `tf.reduce_mean()` and `tf.square()`."
      ]
    },
    {
      "cell_type": "code",
      "execution_count": null,
      "metadata": {
        "id": "5x881JrIPZ17"
      },
      "outputs": [],
      "source": []
    },
    {
      "cell_type": "code",
      "execution_count": null,
      "metadata": {
        "id": "qmHeMfdDPZ18"
      },
      "outputs": [],
      "source": []
    },
    {
      "cell_type": "code",
      "execution_count": null,
      "metadata": {
        "id": "rPeY_Y3zPZ18"
      },
      "outputs": [],
      "source": []
    },
    {
      "cell_type": "markdown",
      "metadata": {
        "id": "LuPmnvStPZ19"
      },
      "source": [
        "### 1.2)\n",
        "Compile the following model, passing it your custom loss function, then train it and evaluate it. **Tip**: don't forget to use the scaled sets."
      ]
    },
    {
      "cell_type": "code",
      "execution_count": null,
      "metadata": {
        "id": "F5dwZ8F9PZ19"
      },
      "outputs": [],
      "source": [
        "model = keras.models.Sequential([\n",
        "    keras.layers.Dense(30, activation=\"relu\", input_shape=X_train.shape[1:]),\n",
        "    keras.layers.Dense(1),\n",
        "])"
      ]
    },
    {
      "cell_type": "code",
      "execution_count": null,
      "metadata": {
        "id": "7gdaSVNoPZ1-"
      },
      "outputs": [],
      "source": []
    },
    {
      "cell_type": "code",
      "execution_count": null,
      "metadata": {
        "id": "aP8bC7XCPZ1-"
      },
      "outputs": [],
      "source": []
    },
    {
      "cell_type": "code",
      "execution_count": null,
      "metadata": {
        "id": "QzFvGlNcPZ1-"
      },
      "outputs": [],
      "source": []
    },
    {
      "cell_type": "markdown",
      "metadata": {
        "id": "plL-7LRpPZ1_"
      },
      "source": [
        "### 1.3)\n",
        "Try building and compiling the model again, this time adding `\"mse\"` (or equivalently `\"mean_squared_error\"` or `keras.losses.mean_squared_error`) to the list of additional metrics, then train the model and make sure the `my_mse` is equal to the standard `mse`."
      ]
    },
    {
      "cell_type": "code",
      "execution_count": null,
      "metadata": {
        "id": "SVH40_tpPZ1_"
      },
      "outputs": [],
      "source": []
    },
    {
      "cell_type": "code",
      "execution_count": null,
      "metadata": {
        "id": "gwiPG5hvPZ1_"
      },
      "outputs": [],
      "source": []
    },
    {
      "cell_type": "code",
      "execution_count": null,
      "metadata": {
        "id": "yKkQ5sZBPZ2B"
      },
      "outputs": [],
      "source": []
    },
    {
      "cell_type": "markdown",
      "metadata": {
        "id": "PiBFJL_lPZ2B"
      },
      "source": [
        "### 1.4)\n",
        "If you want your code to be portable to other Python implementations of the Keras API, you should use the operations in `keras.backend` rather than TensorFlow operations directly. This package contains thin wrappers around the backend's operations (for example, `keras.backend.square()` simply calls `tf.square()`). Try reimplementing the `my_mse()` function this way and use it to train and evaluate your model again. **Tip**: people frequently define `K = keras.backend` to make their code more readable."
      ]
    },
    {
      "cell_type": "code",
      "execution_count": null,
      "metadata": {
        "id": "ZE5g-D4XPZ2B"
      },
      "outputs": [],
      "source": []
    },
    {
      "cell_type": "code",
      "execution_count": null,
      "metadata": {
        "id": "OFWSzH5jPZ2B"
      },
      "outputs": [],
      "source": []
    },
    {
      "cell_type": "code",
      "execution_count": null,
      "metadata": {
        "id": "gx50v6M5PZ2B"
      },
      "outputs": [],
      "source": []
    },
    {
      "cell_type": "markdown",
      "metadata": {
        "id": "ft4-gqvkPZ2M"
      },
      "source": [
        "## Exercise 2 – Custom layer"
      ]
    },
    {
      "cell_type": "markdown",
      "metadata": {
        "id": "HcNwJNM0PZ2M"
      },
      "source": [
        "### 2.1)\n",
        "Some layers have no weights, such as `keras.layers.Flatten` or `keras.layers.ReLU`. If you want to create a custom layer without any weights, the simplest option is to create a `keras.layers.Lambda` layer and pass it the function to perform. For example, try creating a custom layer that applies the softplus function (log(exp(X) + 1), and try calling this layer like a regular function.\n",
        "\n",
        "**Tip**: you can use `tf.math.softplus()` rather than computing the log and the exponential manually."
      ]
    },
    {
      "cell_type": "code",
      "execution_count": null,
      "metadata": {
        "id": "aksqUHQhPZ2N"
      },
      "outputs": [],
      "source": []
    },
    {
      "cell_type": "code",
      "execution_count": null,
      "metadata": {
        "id": "laYk0-cFPZ2N"
      },
      "outputs": [],
      "source": []
    },
    {
      "cell_type": "code",
      "execution_count": null,
      "metadata": {
        "id": "vZvsArySPZ2O"
      },
      "outputs": [],
      "source": []
    },
    {
      "cell_type": "markdown",
      "metadata": {
        "id": "R0l02sXDPZ2O"
      },
      "source": [
        "### 2.2)\n",
        "Create a regression model like in exercise 1, but add your softplus layer at the top (i.e., after the existing 1-unit dense layer). This can be useful to ensure that your model never predicts negative values."
      ]
    },
    {
      "cell_type": "code",
      "execution_count": null,
      "metadata": {
        "id": "dJe1VU28PZ2O"
      },
      "outputs": [],
      "source": []
    },
    {
      "cell_type": "code",
      "execution_count": null,
      "metadata": {
        "id": "aajV6NWhPZ2P"
      },
      "outputs": [],
      "source": []
    },
    {
      "cell_type": "code",
      "execution_count": null,
      "metadata": {
        "id": "408CuKJmPZ2P"
      },
      "outputs": [],
      "source": []
    },
    {
      "cell_type": "markdown",
      "metadata": {
        "id": "GxnMs1VePZ2P"
      },
      "source": [
        "### 2.3)\n",
        "Alternatively, try using this softplus layer as the activation function of the output layer.\n",
        "\n",
        "**Notes**:\n",
        "* setting a layer's activation function is just a handy way of adding an extra weightless layer.\n",
        "* Keras supports the softplus activation function out of the box:\n",
        "  * set `activation=\"softplus\"`\n",
        "  * or set `activation=keras.activations.softplus`\n",
        "  * or add a `keras.layers.Activation(\"softplus\")` layer to your model."
      ]
    },
    {
      "cell_type": "code",
      "execution_count": null,
      "metadata": {
        "id": "xkJITbWyPZ2Q"
      },
      "outputs": [],
      "source": []
    },
    {
      "cell_type": "code",
      "execution_count": null,
      "metadata": {
        "id": "w1miy6hMPZ2Q"
      },
      "outputs": [],
      "source": []
    },
    {
      "cell_type": "code",
      "execution_count": null,
      "metadata": {
        "id": "F20IOHkoPZ2Q"
      },
      "outputs": [],
      "source": []
    },
    {
      "cell_type": "markdown",
      "metadata": {
        "id": "YHw9XI47PZ2Q"
      },
      "source": [
        "### 2.4)\n",
        "Now let's create a custom layer with its own weights. Use the following template to create a `MyDense` layer that computes $\\phi(\\mathbf{X} \\mathbf{W}) + \\mathbf{b}$, where $\\phi$ is the (optional) activation function, $\\mathbf{X}$ is the input data, $\\mathbf{W}$ represents the kernel (i.e., connection weights), and $\\mathbf{b}$ represents the biases, then train and evaluate a model using this instead of a regular `Dense` layer.\n",
        "\n",
        "**Tips**:\n",
        "* The constructor `__init__()`:\n",
        "  * It must have all your layer's hyperparameters as arguments, and save them to instance variables. You will need the number of `units` and the optional `activation` function. To support all kinds of activation functions (strings or functions), simply create a `keras.layers.Activation` passing it the `activation` argument.\n",
        "  * The `**kwargs` argument must be passed to the base class's constructor (`super().__init__()`) so your class can support the `input_shape` argument, and more.\n",
        "* The `build()` method:\n",
        "  * The `build()` method will be called automatically by Keras when it knows the shape of the inputs. Note that the argument should really be called `batch_input_shape` since it includes the batch size.\n",
        "  * You must call `self.add_weight()` for each weight you want to create, specifying its `name`, `shape` (which often depends on the `input_shape`), how to initialize it, and whether or not it is `trainable`. You need two weights: the `kernel` (connection weights) and the `biases`. The kernel must be initialized randomly. The biases are usually initialized with zeros. **Note**: you can find many initializers in `keras.initializers`.\n",
        "  * Do not forget to call `super().build()`, so Keras knows that the model has been built.\n",
        "  * Note: you could create the weights in the constructor, but it is preferable to create them in the `build()` method, because users of your class may not always know the `input_shape` when creating the model. The first time the model is used on some actual data, the `build()` method will automatically be called with the actual `input_shape`.\n",
        "* The `call()` method:\n",
        "  * This is where to code your layer's actual computations. As before, you can use TensorFlow operations directly, or use `keras.backend` operations if you want the layer to be portable to other Keras implementations.\n",
        "* The `compute_output_shape()` method:\n",
        "  * You do not need to implement this method when using tf.keras, as the `Layer` class provides a good implementation.\n",
        "  * However, if want to port your code to another Keras implementation (such as keras-team), and if the output shape is different from the input shape, then you need to implement this method. Note that the input shape is actually the batch input shape, and the ouptut shape must be the batch output shape."
      ]
    },
    {
      "cell_type": "code",
      "execution_count": null,
      "metadata": {
        "id": "-LpDi8UfPZ2S"
      },
      "outputs": [],
      "source": [
        "# This template was copied from https://keras.io/layers/writing-your-own-keras-layers/\n",
        "# I just removed the imports and replaced Layer with keras.layers.Layer.\n",
        "\n",
        "class MyLayer(keras.layers.Layer):\n",
        "    def __init__(self, output_dim, **kwargs):\n",
        "        self.output_dim = output_dim\n",
        "        super(MyLayer, self).__init__(**kwargs)\n",
        "\n",
        "    def build(self, input_shape):\n",
        "        # Create a trainable weight variable for this layer.\n",
        "        self.kernel = self.add_weight(name='kernel',\n",
        "                                      shape=(input_shape[1], self.output_dim),\n",
        "                                      initializer='uniform',\n",
        "                                      trainable=True)\n",
        "        super(MyLayer, self).build(input_shape)  # Be sure to call this at the end\n",
        "\n",
        "    def call(self, x):\n",
        "        return K.dot(x, self.kernel)\n",
        "\n",
        "    def compute_output_shape(self, input_shape):\n",
        "        return (input_shape[0], self.output_dim)"
      ]
    },
    {
      "cell_type": "code",
      "execution_count": null,
      "metadata": {
        "id": "dCMWLayuPZ2S"
      },
      "outputs": [],
      "source": []
    },
    {
      "cell_type": "code",
      "execution_count": null,
      "metadata": {
        "id": "_P9qbBYlPZ2T"
      },
      "outputs": [],
      "source": []
    },
    {
      "cell_type": "code",
      "execution_count": null,
      "metadata": {
        "id": "tGcLKr4XPZ2T"
      },
      "outputs": [],
      "source": []
    },
    {
      "cell_type": "markdown",
      "metadata": {
        "id": "dtyn7FTpPZ2a"
      },
      "source": [
        "## Exercise 3 – TensorFlow Functions"
      ]
    },
    {
      "cell_type": "markdown",
      "metadata": {
        "id": "TAd_LMvBPZ2a"
      },
      "source": [
        "### 3.1)\n",
        "Examine and run the following code examples."
      ]
    },
    {
      "cell_type": "code",
      "execution_count": null,
      "metadata": {
        "id": "GZysVn5EPZ2a"
      },
      "outputs": [],
      "source": [
        "def scaled_elu(z, scale=1.0, alpha=1.0):\n",
        "    is_positive = tf.greater_equal(z, 0.0)\n",
        "    return scale * tf.where(is_positive, z, alpha * tf.nn.elu(z))"
      ]
    },
    {
      "cell_type": "code",
      "execution_count": null,
      "metadata": {
        "id": "zT7Gxd1MPZ2b"
      },
      "outputs": [],
      "source": [
        "scaled_elu(tf.constant(-3.))"
      ]
    },
    {
      "cell_type": "code",
      "execution_count": null,
      "metadata": {
        "id": "gmfjYOsSPZ2b"
      },
      "outputs": [],
      "source": [
        "scaled_elu(tf.constant([-3., 2.5]))"
      ]
    },
    {
      "cell_type": "code",
      "execution_count": null,
      "metadata": {
        "id": "U2DDJu-ePZ2q"
      },
      "outputs": [],
      "source": [
        "scaled_elu_tf = tf.function(scaled_elu)\n",
        "scaled_elu_tf"
      ]
    },
    {
      "cell_type": "code",
      "execution_count": null,
      "metadata": {
        "id": "euMaHpeoPZ2q"
      },
      "outputs": [],
      "source": [
        "scaled_elu_tf(tf.constant(-3.))"
      ]
    },
    {
      "cell_type": "code",
      "execution_count": null,
      "metadata": {
        "id": "LSnNMZRQPZ2r"
      },
      "outputs": [],
      "source": [
        "scaled_elu_tf(tf.constant([-3., 2.5]))"
      ]
    },
    {
      "cell_type": "code",
      "execution_count": null,
      "metadata": {
        "id": "0iuxczOvPZ2r"
      },
      "outputs": [],
      "source": [
        "scaled_elu_tf.python_function is scaled_elu"
      ]
    },
    {
      "cell_type": "code",
      "execution_count": null,
      "metadata": {
        "id": "nLpUt40oPZ2s"
      },
      "outputs": [],
      "source": [
        "%timeit scaled_elu(tf.random.normal((1000, 1000)))"
      ]
    },
    {
      "cell_type": "code",
      "execution_count": null,
      "metadata": {
        "id": "nWKQ-iwDPZ2s"
      },
      "outputs": [],
      "source": [
        "%timeit scaled_elu_tf(tf.random.normal((1000, 1000)))"
      ]
    },
    {
      "cell_type": "code",
      "execution_count": null,
      "metadata": {
        "id": "gcBjjQ8BPZ2t"
      },
      "outputs": [],
      "source": [
        "def display_tf_code(func):\n",
        "    from IPython.display import display, Markdown\n",
        "    if hasattr(func, \"python_function\"):\n",
        "        func = func.python_function\n",
        "    code = tf.autograph.to_code(func, experimental_optional_features=None)\n",
        "    display(Markdown('```python\\n{}\\n```'.format(code)))"
      ]
    },
    {
      "cell_type": "code",
      "execution_count": null,
      "metadata": {
        "id": "H6lRBS_dPZ2u"
      },
      "outputs": [],
      "source": [
        "display_tf_code(scaled_elu)"
      ]
    },
    {
      "cell_type": "code",
      "execution_count": null,
      "metadata": {
        "id": "C-MfcRPZPZ2u"
      },
      "outputs": [],
      "source": [
        "var = tf.Variable(0)\n",
        "\n",
        "@tf.function\n",
        "def add_21():\n",
        "    return var.assign_add(21)\n",
        "\n",
        "@tf.function\n",
        "def times_2():\n",
        "    return var.assign(var * 2)"
      ]
    },
    {
      "cell_type": "code",
      "execution_count": null,
      "metadata": {
        "id": "sYphppF9PZ2v"
      },
      "outputs": [],
      "source": [
        "add_21()\n",
        "times_2()"
      ]
    },
    {
      "cell_type": "code",
      "execution_count": null,
      "metadata": {
        "id": "RglMJE1nPZ2v"
      },
      "outputs": [],
      "source": [
        "def times_4(x):\n",
        "    return 4. * x\n",
        "\n",
        "@tf.function\n",
        "def times_4_plus_22(x):\n",
        "    return times_4(x) + 22."
      ]
    },
    {
      "cell_type": "code",
      "execution_count": null,
      "metadata": {
        "id": "n94L_QtDPZ2w"
      },
      "outputs": [],
      "source": [
        "times_4_plus_22(tf.constant(5.))"
      ]
    },
    {
      "cell_type": "markdown",
      "metadata": {
        "id": "yRRAXNTbPZ2w"
      },
      "source": [
        "Compute 1 + 1/2 + 1/4 + ...: the order of execution of the operations with side-effects (e.g., `assign()`) is preserved (in TF 1.x, `tf.control_dependencies()` was needed in such cases):"
      ]
    },
    {
      "cell_type": "code",
      "execution_count": null,
      "metadata": {
        "id": "YfkqjKE9PZ2x"
      },
      "outputs": [],
      "source": [
        "total = tf.Variable(0.)\n",
        "increment = tf.Variable(1.)\n",
        "\n",
        "@tf.function\n",
        "def converge_to_2(n_iterations):\n",
        "    for i in tf.range(n_iterations):\n",
        "        total.assign_add(increment)\n",
        "        increment.assign(increment / 2.0)\n",
        "    return total\n",
        "\n",
        "converge_to_2(20)"
      ]
    },
    {
      "cell_type": "markdown",
      "metadata": {
        "id": "ww8_xnEWPZ2x"
      },
      "source": [
        "### 3.2)\n",
        "Write a function that computes the sum of squares from 1 to n, where n is an argument. Convert it to a graph function by using `tf.function` as a decorator. Display the code generated by autograph using the `display_tf_code()` function. Use `%timeit` to see how must faster the TensorFlow `Function` is compared to the Python function."
      ]
    },
    {
      "cell_type": "code",
      "execution_count": null,
      "metadata": {
        "id": "nM7L45nvPZ2y"
      },
      "outputs": [],
      "source": []
    },
    {
      "cell_type": "code",
      "execution_count": null,
      "metadata": {
        "id": "-EPXlVN2PZ2y"
      },
      "outputs": [],
      "source": []
    },
    {
      "cell_type": "code",
      "execution_count": null,
      "metadata": {
        "id": "xJPr1hDSPZ2y"
      },
      "outputs": [],
      "source": []
    },
    {
      "cell_type": "markdown",
      "metadata": {
        "id": "UXFaQQ28PZ2y"
      },
      "source": [
        "### 3.3)\n",
        "Examine and run the following code examples."
      ]
    },
    {
      "cell_type": "code",
      "execution_count": null,
      "metadata": {
        "id": "_TvYEuzePZ2y"
      },
      "outputs": [],
      "source": [
        "@tf.function\n",
        "def square(x):\n",
        "    tf.print(\"Calling\", x)  # part of the TF Function\n",
        "    print(\"Tracing\")  # NOT part of the TF Function\n",
        "    return tf.square(x)"
      ]
    },
    {
      "cell_type": "code",
      "execution_count": null,
      "metadata": {
        "id": "YfgbDLfWPZ2z"
      },
      "outputs": [],
      "source": [
        "for i in range(5):\n",
        "    square(tf.constant(i))"
      ]
    },
    {
      "cell_type": "code",
      "execution_count": null,
      "metadata": {
        "id": "3hQ1p4T5PZ2z"
      },
      "outputs": [],
      "source": [
        "for i in range(5):\n",
        "    square(tf.constant(i, dtype=tf.float32))"
      ]
    },
    {
      "cell_type": "code",
      "execution_count": null,
      "metadata": {
        "id": "R89qHCyOPZ20"
      },
      "outputs": [],
      "source": [
        "for i in range(5):\n",
        "    square(tf.constant([i, i], dtype=tf.float32))"
      ]
    },
    {
      "cell_type": "code",
      "execution_count": null,
      "metadata": {
        "id": "rvpR-tWCPZ20"
      },
      "outputs": [],
      "source": [
        "# WARNING: when passing non-tensor values, a trace happens for any new value!\n",
        "# This is to allow optimization in case this value determines e.g., number of layers.\n",
        "for i in range(5):\n",
        "    square(i)"
      ]
    },
    {
      "cell_type": "markdown",
      "metadata": {
        "id": "M5LRC1d8PZ20"
      },
      "source": [
        "### 3.4)\n",
        "When you give Keras a custom loss function, it actually creates a graph function based on it, and then uses that graph function during training. The same is true of custom metric functions, and the `call()` method of custom layers and models. Create a `my_mse()` function, like you did earlier, but add an instruction to log a message inside it (use `print()`, *not* `tf.print()`!), and verify that the message is only logged once when you compile and train the model. Optionally, you can also find out when Keras converts custom metrics, layers and models."
      ]
    },
    {
      "cell_type": "code",
      "execution_count": null,
      "metadata": {
        "id": "nQtfk-SQPZ21"
      },
      "outputs": [],
      "source": []
    },
    {
      "cell_type": "code",
      "execution_count": null,
      "metadata": {
        "id": "Zbi9PklBPZ21"
      },
      "outputs": [],
      "source": []
    },
    {
      "cell_type": "code",
      "execution_count": null,
      "metadata": {
        "id": "lK6ZWToaPZ21"
      },
      "outputs": [],
      "source": []
    },
    {
      "cell_type": "markdown",
      "metadata": {
        "id": "q95ZsHl0PZ22"
      },
      "source": [
        "### 3.5)\n",
        "Examine the following function, and try to call it with various argument types and shapes. Notice that only tensors of type `int32` and one dimension (of any size) are accepted now that we have specified the `input_signature`."
      ]
    },
    {
      "cell_type": "code",
      "execution_count": null,
      "metadata": {
        "id": "w6lGfiVtPZ22"
      },
      "outputs": [],
      "source": [
        "@tf.function(input_signature=[tf.TensorSpec([None], tf.int32, name=\"x\")])\n",
        "def cube(z):\n",
        "    return tf.pow(z, 3)"
      ]
    },
    {
      "cell_type": "code",
      "execution_count": null,
      "metadata": {
        "id": "qzxoLCgLPZ22"
      },
      "outputs": [],
      "source": []
    },
    {
      "cell_type": "code",
      "execution_count": null,
      "metadata": {
        "id": "Dr89NAiiPZ23"
      },
      "outputs": [],
      "source": []
    },
    {
      "cell_type": "code",
      "execution_count": null,
      "metadata": {
        "id": "a0gvHoYZPZ23"
      },
      "outputs": [],
      "source": []
    },
    {
      "cell_type": "markdown",
      "metadata": {
        "id": "LHxKHrnDPZ3H"
      },
      "source": [
        "## Exercise 4 – Function Graphs"
      ]
    },
    {
      "cell_type": "markdown",
      "metadata": {
        "id": "tPGACdE5PZ3I"
      },
      "source": [
        "### 4.1)\n",
        "Examine and run the following code examples."
      ]
    },
    {
      "cell_type": "code",
      "execution_count": null,
      "metadata": {
        "id": "9uYtZJ3oPZ3I"
      },
      "outputs": [],
      "source": [
        "@tf.function(input_signature=[tf.TensorSpec([None], tf.int32, name=\"x\")])\n",
        "def cube(z):\n",
        "    return tf.pow(z, 3)"
      ]
    },
    {
      "cell_type": "code",
      "execution_count": null,
      "metadata": {
        "id": "YGtBmja4PZ3J"
      },
      "outputs": [],
      "source": [
        "cube_func_int32 = cube.get_concrete_function(tf.TensorSpec([None], tf.int32))\n",
        "cube_func_int32"
      ]
    },
    {
      "cell_type": "code",
      "execution_count": null,
      "metadata": {
        "id": "YhjPeg-sPZ3J"
      },
      "outputs": [],
      "source": [
        "cube_func_int32 is cube.get_concrete_function(tf.TensorSpec([5], tf.int32))"
      ]
    },
    {
      "cell_type": "code",
      "execution_count": null,
      "metadata": {
        "id": "zjHoZGocPZ3K"
      },
      "outputs": [],
      "source": [
        "cube_func_int32 is cube.get_concrete_function(tf.constant([1, 2, 3]))"
      ]
    },
    {
      "cell_type": "code",
      "execution_count": null,
      "metadata": {
        "id": "kBZm8cdSPZ3K"
      },
      "outputs": [],
      "source": [
        "cube_func_int32.graph"
      ]
    },
    {
      "cell_type": "markdown",
      "metadata": {
        "id": "vM8QKFTTPZ3L"
      },
      "source": [
        "### 4.2)\n",
        "The function's graph is represented on the following diagram. Call the graph's `get_operations()` method to get the list of operations. Each operation has an `inputs` attribute that returns an iterator over its input tensors (these are symbolic: contrary to tensors we have used up to now, they have no value). It also has an `outputs` attribute that returns the list of output tensors. Each tensor has an `op` attribute that returns the operation it comes from. Try navigating through the graph using these methods and attributes."
      ]
    },
    {
      "cell_type": "markdown",
      "metadata": {
        "id": "3jwD9kASPZ3L"
      },
      "source": [
        "<img src=\"https://github.com/ageron/tf2_course/blob/main/images/cube_graph.png?raw=1\" width=\"600\" />"
      ]
    },
    {
      "cell_type": "code",
      "execution_count": null,
      "metadata": {
        "id": "4m9rXNmkPZ3M"
      },
      "outputs": [],
      "source": []
    },
    {
      "cell_type": "code",
      "execution_count": null,
      "metadata": {
        "id": "wCzd0qs2PZ3M"
      },
      "outputs": [],
      "source": []
    },
    {
      "cell_type": "code",
      "execution_count": null,
      "metadata": {
        "id": "-WDq882WPZ3M"
      },
      "outputs": [],
      "source": []
    },
    {
      "cell_type": "markdown",
      "metadata": {
        "id": "WWldVWkDPZ3N"
      },
      "source": [
        "### 4.3)\n",
        "Each operation has a default name, such as `\"pow\"` (you can override it by setting the `name` attribute when you call the operation). In case of a name conflict, TensorFlow adds an underscore and anindex to make the name unique (e.g. `\"pow_1\"`). Moreover, each tensor has the same name as the operation that outputs it, followed by a colon `:` and the tensor's `index` (e.g., `\"pow:0\"`). Most operations have a single output tensor, so most tensors have a name that ends with `:0`. Try using `get_operation_by_name()` and `get_tensor_by_name()` to access any op and tensor you wish."
      ]
    },
    {
      "cell_type": "code",
      "execution_count": null,
      "metadata": {
        "id": "byJ2sbP8PZ3N"
      },
      "outputs": [],
      "source": []
    },
    {
      "cell_type": "code",
      "execution_count": null,
      "metadata": {
        "id": "rxND5P5DPZ3O"
      },
      "outputs": [],
      "source": []
    },
    {
      "cell_type": "code",
      "execution_count": null,
      "metadata": {
        "id": "iEoHGb1JPZ3O"
      },
      "outputs": [],
      "source": []
    },
    {
      "cell_type": "markdown",
      "metadata": {
        "id": "PwHRbhauPZ3O"
      },
      "source": [
        "### 4.4)\n",
        "Call the graph's `as_graph_def()` method and print the output. This is a protobuf representation of the computation graph: it is what makes TensorFlow models so portable."
      ]
    },
    {
      "cell_type": "code",
      "execution_count": null,
      "metadata": {
        "id": "96Ca7d_cPZ3O"
      },
      "outputs": [],
      "source": []
    },
    {
      "cell_type": "code",
      "execution_count": null,
      "metadata": {
        "id": "Rys29vkiPZ3P"
      },
      "outputs": [],
      "source": []
    },
    {
      "cell_type": "code",
      "execution_count": null,
      "metadata": {
        "id": "qhL0bkGmPZ3P"
      },
      "outputs": [],
      "source": []
    },
    {
      "cell_type": "markdown",
      "metadata": {
        "id": "kkokGCUePZ3P"
      },
      "source": [
        "### 4.5)\n",
        "Get the concrete function's `function_def`, and look at its `signature`. This shows the names and types of the nodes in the graph that correspond to the function's inputs and outputs. This will come in handy when you deploy models to TensorFlow Serving or Google Cloud ML Engine."
      ]
    },
    {
      "cell_type": "code",
      "execution_count": null,
      "metadata": {
        "id": "Y1FncaZHPZ3Q"
      },
      "outputs": [],
      "source": []
    },
    {
      "cell_type": "code",
      "execution_count": null,
      "metadata": {
        "id": "byZVKSg3PZ3Q"
      },
      "outputs": [],
      "source": []
    },
    {
      "cell_type": "code",
      "execution_count": null,
      "metadata": {
        "id": "wNEgsdU7PZ3Q"
      },
      "outputs": [],
      "source": []
    },
    {
      "cell_type": "markdown",
      "metadata": {
        "id": "ktgSXMVnPZ3Z"
      },
      "source": [
        "## Exercise 5 – Autodiff"
      ]
    },
    {
      "cell_type": "markdown",
      "metadata": {
        "id": "EXb3Ph99PZ3Z"
      },
      "source": [
        "### 5.1)\n",
        "Examine and run the following code examples."
      ]
    },
    {
      "cell_type": "code",
      "execution_count": null,
      "metadata": {
        "id": "wYjTNe3IPZ3a"
      },
      "outputs": [],
      "source": [
        "def f(x):\n",
        "    return 3. * x ** 2 + 2. * x - 1."
      ]
    },
    {
      "cell_type": "code",
      "execution_count": null,
      "metadata": {
        "id": "98sP_ULbPZ3a"
      },
      "outputs": [],
      "source": [
        "def approximate_derivative(f, x, eps=1e-3):\n",
        "    return (f(x + eps) - f(x - eps)) / (2. * eps)"
      ]
    },
    {
      "cell_type": "code",
      "execution_count": null,
      "metadata": {
        "id": "1vrM18dEPZ3b"
      },
      "outputs": [],
      "source": [
        "approximate_derivative(f, 1.0) # true derivative = 8"
      ]
    },
    {
      "cell_type": "code",
      "execution_count": null,
      "metadata": {
        "id": "oY_Y-1IIPZ3b"
      },
      "outputs": [],
      "source": [
        "xs = np.linspace(-2, 2, 200)\n",
        "fs = f(xs)\n",
        "x0 = 0.5\n",
        "df_x0 = approximate_derivative(f, x0)\n",
        "tangent_x0 = df_x0 * (xs - x0) + f(x0)\n",
        "plt.plot([-2, 2], [0, 0], \"k-\", linewidth=1)\n",
        "plt.plot([0, 0], [-5, 15], \"k-\", linewidth=1)\n",
        "plt.plot(xs, fs)\n",
        "plt.plot(xs, tangent_x0, \"r--\")\n",
        "plt.plot(x0, f(x0), \"ro\")\n",
        "plt.grid(True)\n",
        "plt.xlabel(\"x\", fontsize=14)\n",
        "plt.ylabel(\"f(x)\", fontsize=14, rotation=0)\n",
        "plt.axis([-2, 2, -5, 15])\n",
        "plt.show()"
      ]
    },
    {
      "cell_type": "code",
      "execution_count": null,
      "metadata": {
        "id": "0uTHwhzHPZ3c"
      },
      "outputs": [],
      "source": [
        "def g(x1, x2):\n",
        "    return (x1 + 5) * (x2 ** 2)"
      ]
    },
    {
      "cell_type": "code",
      "execution_count": null,
      "metadata": {
        "id": "_-xOz7DePZ3c"
      },
      "outputs": [],
      "source": [
        "def approximate_gradient(f, x1, x2, eps=1e-3):\n",
        "    df_x1 = approximate_derivative(lambda x: f(x, x2), x1, eps)\n",
        "    df_x2 = approximate_derivative(lambda x: f(x1, x), x2, eps)\n",
        "    return df_x1, df_x2"
      ]
    },
    {
      "cell_type": "code",
      "execution_count": null,
      "metadata": {
        "id": "tsE68MycPZ3c"
      },
      "outputs": [],
      "source": [
        "approximate_gradient(g, 2.0, 3.0) # true gradient = (9, 42)"
      ]
    },
    {
      "cell_type": "code",
      "execution_count": null,
      "metadata": {
        "id": "Vk6bz3UpPZ3d"
      },
      "outputs": [],
      "source": [
        "x1 = tf.Variable(2.0)\n",
        "x2 = tf.Variable(3.0)\n",
        "with tf.GradientTape() as tape:\n",
        "    z = g(x1, x2)\n",
        "grads = tape.gradient(z, [x1, x2])\n",
        "grads"
      ]
    },
    {
      "cell_type": "code",
      "execution_count": null,
      "metadata": {
        "id": "g4G2I7AnPZ3d"
      },
      "outputs": [],
      "source": [
        "x1 = tf.Variable(2.0)\n",
        "x2 = tf.Variable(3.0)\n",
        "with tf.GradientTape() as tape:\n",
        "    z = g(x1, x2)\n",
        "\n",
        "dz_x1 = tape.gradient(z, x1)\n",
        "try:\n",
        "    dz_x2 = tape.gradient(z, x2)\n",
        "except RuntimeError as ex:\n",
        "    print(ex)"
      ]
    },
    {
      "cell_type": "code",
      "execution_count": null,
      "metadata": {
        "id": "w4rv0uBnPZ3d"
      },
      "outputs": [],
      "source": [
        "x1 = tf.Variable(2.0)\n",
        "x2 = tf.Variable(3.0)\n",
        "with tf.GradientTape(persistent=True) as tape:\n",
        "    z = g(x1, x2)\n",
        "\n",
        "dz_x1 = tape.gradient(z, x1)\n",
        "dz_x2 = tape.gradient(z, x2)\n",
        "del tape\n",
        "dz_x1, dz_x2"
      ]
    },
    {
      "cell_type": "code",
      "execution_count": null,
      "metadata": {
        "id": "2wd24ra3PZ3e"
      },
      "outputs": [],
      "source": [
        "x1 = tf.constant(2.0) # <= not Variable\n",
        "x2 = tf.constant(3.0) # <= not Variable\n",
        "with tf.GradientTape() as tape:\n",
        "    z = g(x1, x2)\n",
        "\n",
        "grads = tape.gradient(z, [x1, x2])\n",
        "grads"
      ]
    },
    {
      "cell_type": "code",
      "execution_count": null,
      "metadata": {
        "id": "ovRsnM7WPZ3f"
      },
      "outputs": [],
      "source": [
        "x1 = tf.constant(2.0)\n",
        "x2 = tf.constant(3.0)\n",
        "with tf.GradientTape() as tape:\n",
        "    tape.watch(x1)\n",
        "    tape.watch(x2)\n",
        "    z = g(x1, x2)\n",
        "\n",
        "grads = tape.gradient(z, [x1, x2])\n",
        "grads"
      ]
    },
    {
      "cell_type": "code",
      "execution_count": null,
      "metadata": {
        "id": "ylWs0YjmPZ3f"
      },
      "outputs": [],
      "source": [
        "x = tf.Variable(5.0)\n",
        "with tf.GradientTape() as tape:\n",
        "    z1 = 3 * x\n",
        "    z2 = x ** 2\n",
        "tape.gradient([z1, z2], x) # dz1_x + dz2_x = 3 + 2x = 3 + 2*5 = 13"
      ]
    },
    {
      "cell_type": "code",
      "execution_count": null,
      "metadata": {
        "id": "ksTePO2yPZ3g"
      },
      "outputs": [],
      "source": [
        "x1 = tf.Variable(2.0)\n",
        "x2 = tf.Variable(3.0)\n",
        "with tf.GradientTape(persistent=True) as hessian_tape:\n",
        "    with tf.GradientTape() as jacobian_tape:\n",
        "        z = g(x1, x2)\n",
        "    jacobians = jacobian_tape.gradient(z, [x1, x2])\n",
        "hessians = [hessian_tape.gradient(jacobian, [x1, x2])\n",
        "            for jacobian in jacobians]\n",
        "del hessian_tape\n",
        "hessians"
      ]
    },
    {
      "cell_type": "markdown",
      "metadata": {
        "id": "dRvwhKamPZ3g"
      },
      "source": [
        "### 5.2)\n",
        "Implement Gradient Descent manually to find the value of `x` that minimizes the following function `f(x)`.\n",
        "\n",
        "**Tips**:\n",
        "* Define a variable `x` and initialize it to 0.\n",
        "* Define the `learning_rate` (e.g., 0.1).\n",
        "* Write a loop that will repeatedly (1) compute the gradient of `f` (actually a derivative in this case) at the current value of `x`, and (2) tweak `x` slightly in the opposite direction (by subtracting `learning_rate * df_dx`). You can use `x.assign_sub(...)` for this.\n",
        "* Using calculus, we can find that the algorithm should converge to $x = -\\frac{1}{3}$. Indeed, the derivative of $f(x) = 3 x^2 + 2x -1$ is $f'(x) = 6x + 2$, so the minimum is reached when $f'(x) = 0$ (slope is 0), so $6x + 2 = 0$, which leads to $x = -\\frac{1}{3}$.\n"
      ]
    },
    {
      "cell_type": "code",
      "execution_count": null,
      "metadata": {
        "id": "PP5nOuFEPZ3h"
      },
      "outputs": [],
      "source": [
        "def f(x):\n",
        "    return 3. * x ** 2 + 2. * x - 1."
      ]
    },
    {
      "cell_type": "code",
      "execution_count": null,
      "metadata": {
        "id": "bwfkTYSrPZ3h"
      },
      "outputs": [],
      "source": []
    },
    {
      "cell_type": "code",
      "execution_count": null,
      "metadata": {
        "id": "4ptKv6ioPZ3i"
      },
      "outputs": [],
      "source": []
    },
    {
      "cell_type": "code",
      "execution_count": null,
      "metadata": {
        "id": "X1ZiB0JoPZ3i"
      },
      "outputs": [],
      "source": []
    },
    {
      "cell_type": "markdown",
      "metadata": {
        "id": "AlR74_ktPZ3i"
      },
      "source": [
        "### 5.3)\n",
        "Now use an `SGD` optimizer instead of manually tweaking `x`.\n",
        "\n",
        "**Tips**:\n",
        "* You first need to create an `SGD` optimizer, optionally specifying the learning_rate (e.g., `lr=0.1`).\n",
        "* Next replace the manual tweaking of `x` in your previous code to use `optimizer.apply_gradients()` instead. You need to pass it a list of gradient/variable pairs (just one pair in this example)."
      ]
    },
    {
      "cell_type": "code",
      "execution_count": null,
      "metadata": {
        "id": "uG5WzDiTPZ3i"
      },
      "outputs": [],
      "source": []
    },
    {
      "cell_type": "code",
      "execution_count": null,
      "metadata": {
        "id": "XDS6WsKAPZ3j"
      },
      "outputs": [],
      "source": []
    },
    {
      "cell_type": "code",
      "execution_count": null,
      "metadata": {
        "id": "as3roGu7PZ3j"
      },
      "outputs": [],
      "source": []
    },
    {
      "cell_type": "markdown",
      "metadata": {
        "id": "BNA4hn_9PZ3j"
      },
      "source": [
        "### 5.4)\n",
        "Create a `Sequential` model for the California housing problem (no need to compile it), and train it using your own training loop, instead of using `fit()`. Evaluate your model on the validation set at the end of each epoch, and display the result.\n",
        "\n",
        "**Tips**:\n",
        "* You can use the following `random_batch()` function to get a new batch of training data at each iteration (the Data API would be much preferable, as we will see in the next notebook).\n",
        "* You can use the model like a function to make predictions: `y_pred = model(X_batch)`\n",
        "* You can use `keras.losses.mean_squared_error()` to compute the loss. Note that it returns one loss per instance, so you need to use `tf.reduce_mean()` to get the mean loss.\n",
        "* You can use `model.trainable_variables` to get the full list of trainable variables in your model.\n",
        "* You can use `zip(gradients, variables)` to create a list containing all the gradient/variable pairs."
      ]
    },
    {
      "cell_type": "code",
      "execution_count": null,
      "metadata": {
        "id": "9zsXHdyNPZ3k"
      },
      "outputs": [],
      "source": [
        "def random_batch(X, y, batch_size = 32):\n",
        "    idx = np.random.randint(0, len(X), size=batch_size)\n",
        "    return X[idx], y[idx]"
      ]
    },
    {
      "cell_type": "code",
      "execution_count": null,
      "metadata": {
        "id": "nQQqs0D4PZ3k"
      },
      "outputs": [],
      "source": []
    },
    {
      "cell_type": "code",
      "execution_count": null,
      "metadata": {
        "id": "rnc32BewPZ3l"
      },
      "outputs": [],
      "source": []
    },
    {
      "cell_type": "code",
      "execution_count": null,
      "metadata": {
        "id": "aw0V7rjKPZ3l"
      },
      "outputs": [],
      "source": []
    },
    {
      "cell_type": "markdown",
      "metadata": {
        "id": "CDFEjPU0PZ3l"
      },
      "source": [
        "### 5.5)\n",
        "Examine and run the following code examples, then update your training loop to display the training loss at each iteration.\n",
        "\n",
        "**Tips**:\n",
        "* You can use a `keras.metrics.MeanSquaredError` instance to efficiently track the running mean squared error at each iteration.\n",
        "* Make sure you reset the metric's states at the start of each epoch.\n",
        "* You can use `print(\"\\r\", mse, end=\"\")` to display the MSE on the same line at each iteration."
      ]
    },
    {
      "cell_type": "code",
      "execution_count": null,
      "metadata": {
        "id": "KfgzlHgTPZ3l"
      },
      "outputs": [],
      "source": [
        "metric = keras.metrics.MeanSquaredError()\n",
        "metric([5.], [2.])  # error = (2 - 5)**2 = 9\n",
        "metric([0.], [1.])  # error = (1 - 0)**2 = 1\n",
        "metric.result()     # mean error = (9 + 1) / 2 = 5"
      ]
    },
    {
      "cell_type": "code",
      "execution_count": null,
      "metadata": {
        "id": "MYjV3md1PZ3m"
      },
      "outputs": [],
      "source": [
        "metric.reset_states()\n",
        "metric.result()"
      ]
    },
    {
      "cell_type": "code",
      "execution_count": null,
      "metadata": {
        "id": "f2ybXiE3PZ3m"
      },
      "outputs": [],
      "source": [
        "metric([1.], [3.])  # error = (3 - 1)**2 = 4\n",
        "metric.result()     # mean error = 4 / 1 = 4"
      ]
    },
    {
      "cell_type": "code",
      "execution_count": null,
      "metadata": {
        "id": "6nk8e1DcPZ3n"
      },
      "outputs": [],
      "source": []
    },
    {
      "cell_type": "code",
      "execution_count": null,
      "metadata": {
        "id": "VDaewCKGPZ3n"
      },
      "outputs": [],
      "source": []
    },
    {
      "cell_type": "code",
      "execution_count": null,
      "metadata": {
        "id": "H6mVuU0MPZ3o"
      },
      "outputs": [],
      "source": []
    },
    {
      "cell_type": "markdown",
      "metadata": {
        "id": "Cs-XhuDePZ3x"
      },
      "source": [
        "## Conclusion"
      ]
    },
    {
      "cell_type": "markdown",
      "metadata": {
        "id": "WeHSnQnfPZ3x"
      },
      "source": [
        "Great! You now know how to use TensorFlow's low-level API to write custom loss functions, layers, and models. You also learned how to optimize your functions by converting them to graphs: this allows TensorFlow to run operations in parallel and to perform various optimizations. Next, you learned how TensorFlow Functions and graphs are structured, and how to navigate through them. Finally, you learned how to use autodiff and write your own custom training loops."
      ]
    }
  ],
  "metadata": {
    "kernelspec": {
      "display_name": "Python 3",
      "language": "python",
      "name": "python3"
    },
    "language_info": {
      "codemirror_mode": {
        "name": "ipython",
        "version": 3
      },
      "file_extension": ".py",
      "mimetype": "text/x-python",
      "name": "python",
      "nbconvert_exporter": "python",
      "pygments_lexer": "ipython3",
      "version": "3.7.10"
    },
    "colab": {
      "provenance": []
    }
  },
  "nbformat": 4,
  "nbformat_minor": 0
}