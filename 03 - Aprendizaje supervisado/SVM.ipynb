{
  "nbformat": 4,
  "nbformat_minor": 0,
  "metadata": {
    "colab": {
      "private_outputs": true,
      "provenance": []
    },
    "kernelspec": {
      "name": "python3",
      "display_name": "Python 3"
    },
    "language_info": {
      "name": "python"
    }
  },
  "cells": [
    {
      "cell_type": "code",
      "execution_count": null,
      "metadata": {
        "id": "6wGSm88vpT2F"
      },
      "outputs": [],
      "source": [
        "import numpy as np\n",
        "import matplotlib.pyplot as plt\n",
        "from sklearn import svm\n",
        "from sklearn.datasets import make_blobs\n",
        "import matplotlib"
      ]
    },
    {
      "cell_type": "code",
      "source": [
        "X,Y=make_blobs(n_samples=30,n_features=2,centers=2,random_state=2,center_box=(0,10))"
      ],
      "metadata": {
        "id": "FuaS04zXqYwh"
      },
      "execution_count": null,
      "outputs": []
    },
    {
      "cell_type": "code",
      "source": [
        "#Por lo general de se grafica"
      ],
      "metadata": {
        "id": "aUcXOYCVrVF1"
      },
      "execution_count": null,
      "outputs": []
    },
    {
      "cell_type": "code",
      "source": [
        "clf= svm.SVC(kernel='linear',C=100)\n",
        "clf.fit(X,Y)"
      ],
      "metadata": {
        "id": "bbluwvbArgtO"
      },
      "execution_count": null,
      "outputs": []
    },
    {
      "cell_type": "code",
      "source": [
        "cmap= matplotlib.colors.ListedColormap(['k','g'])\n",
        "plt.scatter(X[:,0],X[:,1],c=Y ,s=40,cmap=cmap)\n",
        "\n",
        "# Graficamos los datos en el espacio de caracteríticas\n",
        "cmap   = matplotlib.colors.ListedColormap( [ 'k', 'g' ] )\n",
        "plt.scatter(X[:, 0], X[:, 1], c=Y, s=40,cmap=cmap)\n",
        "\n",
        "#  Creamos un mesh para evaluar la función de decisión\n",
        "ax = plt.gca()\n",
        "xlim = ax.get_xlim()\n",
        "ylim = ax.get_ylim()\n",
        "\n",
        "xx = np.linspace(xlim[0], xlim[1], 30)\n",
        "yy = np.linspace(ylim[0], ylim[1], 30)\n",
        "YY, XX = np.meshgrid(yy, xx)\n",
        "xy = np.vstack([XX.ravel(), YY.ravel()]).T\n",
        "Z = clf.decision_function(xy).reshape(XX.shape)\n",
        "\n",
        "# Graficamos el hiperplano y el margen\n",
        "ax.contour(XX, YY, Z, colors='k', levels=[-1, 0, 1], alpha=0.5,linestyles=['--', '-', '--'])\n",
        "\n",
        "# Graficamos los vectores soporte\n",
        "#ax.scatter(clf.support_vectors_[:, 0], clf.support_vectors_[:, 1], s=100,facecolors='none', edgecolors='k')\n",
        "Z_pred = clf.predict(np.c_[XX.ravel(), YY.ravel()])\n",
        "Z_pred = Z_pred.reshape(XX.shape)\n",
        "\n",
        "cmap   = matplotlib.colors.ListedColormap( [ 'r', 'y' ] )\n",
        "plt.pcolormesh(XX, YY, Z_pred,cmap = cmap,alpha=0.1)\n",
        "\n",
        "new_x = [[5,0.5]]\n",
        "new_z = clf.predict(new_x)\n",
        "if new_z[0]==0: color='k'\n",
        "else: color='g'\n",
        "plt.scatter(new_x[0][0],new_x[0][1] , marker = '+',color=color,s=300)\n",
        "plt.grid()\n",
        "plt.show()"
      ],
      "metadata": {
        "id": "Lz-MQA3Jsfv-"
      },
      "execution_count": null,
      "outputs": []
    },
    {
      "cell_type": "code",
      "source": [
        "# Veamos el uso de kernels para el problema de clases linealmente no separables\n",
        "from sklearn.datasets import make_circles\n",
        "\n",
        "# generamos 100 muestras con dos características, asociadas a dos clases\n",
        "X, y = make_circles(100, factor=.2, noise=.2)\n",
        "plt.scatter(X[:, 0], X[:, 1], c=y, s=50, cmap='autumn')\n",
        "\n",
        "# Creamos el modelo SVM para clasificación con kernel lineal/rbf y entrenamos el modelo\n",
        "clf = svm.SVC(kernel='linear', C=100).fit(X, y)\n",
        "\n",
        "# Graficamos los datos en el espacio de caracteríticas\n",
        "cmap   = matplotlib.colors.ListedColormap( [ 'k', 'g' ] )\n",
        "plt.scatter(X[:, 0], X[:, 1], c=y, s=40,cmap=cmap)\n",
        "\n",
        "#  Creamos un mesh para evaluar la función de decisión\n",
        "ax = plt.gca()\n",
        "xlim = ax.get_xlim()\n",
        "ylim = ax.get_ylim()\n",
        "\n",
        "xx = np.linspace(xlim[0], xlim[1], 30)\n",
        "yy = np.linspace(ylim[0], ylim[1], 30)\n",
        "YY, XX = np.meshgrid(yy, xx)\n",
        "xy = np.vstack([XX.ravel(), YY.ravel()]).T\n",
        "Z = clf.decision_function(xy).reshape(XX.shape)\n",
        "\n",
        "# Graficamos el hiperplano y el margen\n",
        "ax.contour(XX, YY, Z, colors='k', levels=[-1, 0, 1], alpha=0.5,linestyles=['--', '-', '--'])\n",
        "\n",
        "# Graficamos los vectores soporte\n",
        "ax.scatter(clf.support_vectors_[:, 0], clf.support_vectors_[:, 1], s=100,facecolors='none', edgecolors='k')\n",
        "\n",
        "Z_pred = clf.predict(np.c_[XX.ravel(), YY.ravel()])\n",
        "Z_pred = Z_pred.reshape(XX.shape)\n",
        "\n",
        "cmap   = matplotlib.colors.ListedColormap( [ 'r', 'y' ] )\n",
        "plt.pcolormesh(XX, YY, Z_pred,cmap = cmap,alpha=0.1)\n",
        "\n",
        "plt.grid()\n",
        "plt.show()"
      ],
      "metadata": {
        "id": "NPH1s0nJx_w0"
      },
      "execution_count": null,
      "outputs": []
    },
    {
      "cell_type": "code",
      "source": [
        "# Veamos el efecto del truco kernel (aumentando la dimensionalidad del espacio de entradas)\n",
        "from mpl_toolkits import mplot3d\n",
        "\n",
        "# Aplicamos una operación de kernel gaussiano para separar las clases\n",
        "# Gamma controla el efecto del kernel, si es muy pequeño el modelo se parece al lineal\n",
        "gamma = 1\n",
        "Xr = np.exp(-gamma*(X ** 2).sum(1))\n",
        "\n",
        "# Graficamos el espacio de características mapeado por el kernel\n",
        "ax = plt.subplot(projection='3d')\n",
        "cmap   = matplotlib.colors.ListedColormap( [ 'k', 'g' ] )\n",
        "ax.scatter3D(X[:, 0], X[:, 1], Xr, c=y, s=50, cmap=cmap)"
      ],
      "metadata": {
        "id": "m0qQnmmjy2FI"
      },
      "execution_count": null,
      "outputs": []
    }
  ]
}