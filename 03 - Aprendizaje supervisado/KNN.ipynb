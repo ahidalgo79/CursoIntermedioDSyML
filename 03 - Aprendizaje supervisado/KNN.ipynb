{
  "nbformat": 4,
  "nbformat_minor": 0,
  "metadata": {
    "colab": {
      "private_outputs": true,
      "provenance": []
    },
    "kernelspec": {
      "name": "python3",
      "display_name": "Python 3"
    },
    "language_info": {
      "name": "python"
    }
  },
  "cells": [
    {
      "cell_type": "code",
      "execution_count": null,
      "metadata": {
        "id": "pXQkE_0Ezama"
      },
      "outputs": [],
      "source": [
        "import pandas as pd\n",
        "bills=pd.read_csv(\"https://gist.githubusercontent.com/javierIA/52184893d57d9a644e2362ee108cfa9e/raw/7297193ea28a0ebed89cb230034a0e62043fe288/bills.csv\")"
      ]
    },
    {
      "cell_type": "code",
      "source": [
        "import numpy as np\n",
        "from sklearn.model_selection import train_test_split\n",
        "import pandas as pd\n",
        "\n",
        "x=np.array(bills.drop([\"Unnamed: 0\",\"is_genuine\"],axis=1))\n",
        "x"
      ],
      "metadata": {
        "id": "I79s7vqE2u0L"
      },
      "execution_count": null,
      "outputs": []
    },
    {
      "cell_type": "code",
      "source": [
        "y=np.array(bills[\"is_genuine\"])\n",
        "y\n",
        "\n",
        "x_train,x_test,y_train,y_test=train_test_split(x,y,test_size=0.2)"
      ],
      "metadata": {
        "id": "LvA_38LY22y4"
      },
      "execution_count": null,
      "outputs": []
    },
    {
      "cell_type": "code",
      "source": [
        "from sklearn.neighbors import KNeighborsClassifier\n",
        "\n",
        "clf=KNeighborsClassifier(n_neighbors=5).fit(x_train,y_train)\n",
        "clf"
      ],
      "metadata": {
        "id": "y57e-ejA3J7I"
      },
      "execution_count": null,
      "outputs": []
    },
    {
      "cell_type": "code",
      "source": [
        "data= np.array([2,3,1,12,21,2]).reshape(1,-1)\n",
        "print(clf.predict(data))"
      ],
      "metadata": {
        "id": "G8UexLleHyGY"
      },
      "execution_count": null,
      "outputs": []
    },
    {
      "cell_type": "code",
      "source": [
        "from sklearn.metrics import confusion_matrix\n",
        "\n",
        "y_pred=clf.predict(x_test)\n",
        "conf_mat=confusion_matrix(y_test,y_pred)\n",
        "print(conf_mat)"
      ],
      "metadata": {
        "id": "ugGX2-_130sH"
      },
      "execution_count": null,
      "outputs": []
    },
    {
      "cell_type": "code",
      "source": [
        "from sklearn.metrics import accuracy_score\n",
        "\n",
        "conf_mat=accuracy_score(y_test,y_pred)\n",
        "print(conf_mat)\n"
      ],
      "metadata": {
        "id": "yTR7T9Ib5oR_"
      },
      "execution_count": null,
      "outputs": []
    }
  ]
}