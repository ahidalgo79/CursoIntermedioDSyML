{
  "nbformat": 4,
  "nbformat_minor": 0,
  "metadata": {
    "colab": {
      "private_outputs": true,
      "provenance": []
    },
    "kernelspec": {
      "name": "python3",
      "display_name": "Python 3"
    },
    "language_info": {
      "name": "python"
    }
  },
  "cells": [
    {
      "cell_type": "code",
      "execution_count": null,
      "metadata": {
        "id": "ZKKOL4917jcn"
      },
      "outputs": [],
      "source": [
        "import numpy as np\n",
        "import matplotlib.pyplot as plt\n",
        "import pandas as pd\n",
        "from sklearn import tree\n"
      ]
    },
    {
      "cell_type": "code",
      "source": [
        "df=pd.read_csv(\"/content/Titanic.csv\")\n",
        "df.describe()"
      ],
      "metadata": {
        "id": "3vbnSCDF9cNH"
      },
      "execution_count": null,
      "outputs": []
    },
    {
      "cell_type": "code",
      "source": [
        "df.head()"
      ],
      "metadata": {
        "id": "H9P6RNxH9hS8"
      },
      "execution_count": null,
      "outputs": []
    },
    {
      "cell_type": "code",
      "source": [
        "df=pd.get_dummies(df,columns=['Sex'],drop_first=True)"
      ],
      "metadata": {
        "id": "RAsqqVcR95Yv"
      },
      "execution_count": null,
      "outputs": []
    },
    {
      "cell_type": "code",
      "source": [
        "df"
      ],
      "metadata": {
        "id": "41Xwe8v9-YHY"
      },
      "execution_count": null,
      "outputs": []
    },
    {
      "cell_type": "code",
      "source": [
        "data=df[['Sex_male','Fare','Age','Pclass','SibSp','Survived']]\n",
        "data"
      ],
      "metadata": {
        "id": "vvS0ADQO-v0l"
      },
      "execution_count": null,
      "outputs": []
    },
    {
      "cell_type": "code",
      "source": [
        "data.info()"
      ],
      "metadata": {
        "id": "6OI-qRmk_H3u"
      },
      "execution_count": null,
      "outputs": []
    },
    {
      "cell_type": "code",
      "source": [
        "from sklearn.model_selection import train_test_split"
      ],
      "metadata": {
        "id": "4NMj7AsZ_mFr"
      },
      "execution_count": null,
      "outputs": []
    },
    {
      "cell_type": "code",
      "source": [
        "X=data.drop(['Survived'],axis=1)\n",
        "Y=data.Survived\n",
        "\n",
        "\n",
        "x_train,x_test,y_train,y_test=train_test_split(X,Y,random_state=0)\n",
        "\n",
        "model=tree.DecisionTreeClassifier(max_leaf_nodes=1000)"
      ],
      "metadata": {
        "id": "dzqJsOYj_qa8"
      },
      "execution_count": null,
      "outputs": []
    },
    {
      "cell_type": "code",
      "source": [
        "model.fit(x_train,y_train)"
      ],
      "metadata": {
        "id": "oIgFVFPyBcnB"
      },
      "execution_count": null,
      "outputs": []
    },
    {
      "cell_type": "code",
      "source": [
        "#Pudes predecir como tu quieras\n",
        "import graphviz\n",
        "\n",
        "\n",
        "dot_table= tree.export_graphviz(model,feature_names=x_train.columns.values,class_names=['Not Survived','Survived'],\n",
        "                                filled=True,rounded=True,special_characters=True,leaves_parallel=False)\n",
        "graph =graphviz.Source(dot_table)\n",
        "graph\n"
      ],
      "metadata": {
        "id": "rQ9J5LFpBm2n"
      },
      "execution_count": null,
      "outputs": []
    },
    {
      "cell_type": "code",
      "source": [
        "!pip install joblib\n",
        "import joblib\n"
      ],
      "metadata": {
        "id": "vwHlYOnUDvFP"
      },
      "execution_count": null,
      "outputs": []
    },
    {
      "cell_type": "code",
      "source": [
        "joblib.dump(model,'modelo.joblib')"
      ],
      "metadata": {
        "id": "wWSnfPcDGUg8"
      },
      "execution_count": null,
      "outputs": []
    },
    {
      "cell_type": "code",
      "source": [
        "import joblib\n",
        "\n",
        "modelocargado=joblib.load('/content/modelo.joblib')\n",
        "modelocargado.predict(x_test)\n"
      ],
      "metadata": {
        "id": "bjANNEGeGh8C"
      },
      "execution_count": null,
      "outputs": []
    },
    {
      "cell_type": "code",
      "source": [
        "!pip install m2cgen"
      ],
      "metadata": {
        "id": "mowrUETqHLJf"
      },
      "execution_count": null,
      "outputs": []
    },
    {
      "cell_type": "code",
      "source": [
        "import m2cgen as m2c\n",
        "code= m2c.export_to_python(model)\n",
        "print(code)"
      ],
      "metadata": {
        "id": "bP7hR6mLHY3c"
      },
      "execution_count": null,
      "outputs": []
    },
    {
      "cell_type": "code",
      "source": [],
      "metadata": {
        "id": "Dyaoxv51J1c2"
      },
      "execution_count": null,
      "outputs": []
    }
  ]
}