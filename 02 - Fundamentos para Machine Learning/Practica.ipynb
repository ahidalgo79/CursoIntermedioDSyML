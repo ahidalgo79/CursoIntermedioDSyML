{
  "nbformat": 4,
  "nbformat_minor": 0,
  "metadata": {
    "colab": {
      "private_outputs": true,
      "provenance": [],
      "gpuType": "T4"
    },
    "kernelspec": {
      "name": "python3",
      "display_name": "Python 3"
    },
    "language_info": {
      "name": "python"
    },
    "accelerator": "GPU"
  },
  "cells": [
    {
      "cell_type": "code",
      "execution_count": null,
      "metadata": {
        "id": "cLXQmuWTpuAI"
      },
      "outputs": [],
      "source": [
        "!pip freeze"
      ]
    },
    {
      "cell_type": "code",
      "source": [
        "from sklearn.model_selection import train_test_split\n",
        "import pandas as pd\n",
        "\n",
        "\n",
        "data=pd.read_csv(\"https://gist.githubusercontent.com/javierIA/651810e8710cf37c5533aba164d18aa8/raw/68ad93a282f8dc92bc933284a645e9d6b301c6c4/data\")"
      ],
      "metadata": {
        "id": "PLqqQbUhuZYS"
      },
      "execution_count": null,
      "outputs": []
    },
    {
      "cell_type": "code",
      "source": [
        "data"
      ],
      "metadata": {
        "id": "f7uFM4FRvWzv"
      },
      "execution_count": null,
      "outputs": []
    },
    {
      "cell_type": "code",
      "source": [
        "print(data.info())\n",
        "#X=[3123123,3123,1323,1331323]\n",
        "X=data['reading score'].values\n",
        "Y=data['writing score'].values\n",
        "X=X.reshape(-1,1)"
      ],
      "metadata": {
        "id": "IeXEc0RXvpw1"
      },
      "execution_count": null,
      "outputs": []
    },
    {
      "cell_type": "code",
      "source": [
        "X_train,X_test,Y_train,Y_test=train_test_split(X,Y,test_size=0.2)"
      ],
      "metadata": {
        "id": "vUrCm8WdwTda"
      },
      "execution_count": null,
      "outputs": []
    },
    {
      "cell_type": "code",
      "source": [
        "from sklearn.linear_model import Ridge\n",
        "reg=Ridge()\n",
        "reg.fit(X_train,Y_train)"
      ],
      "metadata": {
        "id": "dFQJEMH6y3e6"
      },
      "execution_count": null,
      "outputs": []
    },
    {
      "cell_type": "code",
      "source": [
        "test=reg.predict([[90]])\n",
        "test"
      ],
      "metadata": {
        "id": "dfnjHikc05Ds"
      },
      "execution_count": null,
      "outputs": []
    },
    {
      "cell_type": "code",
      "source": [
        "from sklearn.metrics import mean_squared_error\n",
        "\n",
        "Y_pred=reg.predict(X_test)\n",
        "print(mean_squared_error(Y_test,Y_pred))"
      ],
      "metadata": {
        "id": "ytljDHKk2Hjc"
      },
      "execution_count": null,
      "outputs": []
    },
    {
      "cell_type": "code",
      "source": [
        "X_flat=X_train.flatten()\n",
        "Y_hat=reg.predict(X_train)"
      ],
      "metadata": {
        "id": "z55IYBc_21ha"
      },
      "execution_count": null,
      "outputs": []
    },
    {
      "cell_type": "code",
      "source": [
        "import seaborn as sns\n",
        "\n",
        "sns.scatterplot(x=X_flat,y=Y_train)\n",
        "sns.lineplot(x=X_flat,y=Y_hat,color='r')\n",
        "\n"
      ],
      "metadata": {
        "id": "vMyUNyKg3OjN"
      },
      "execution_count": null,
      "outputs": []
    },
    {
      "cell_type": "code",
      "source": [
        "print(reg.intercept_)"
      ],
      "metadata": {
        "id": "9_AJIK2c4dCW"
      },
      "execution_count": null,
      "outputs": []
    },
    {
      "cell_type": "code",
      "source": [
        "Y_pred=reg.predict(X_test)\n"
      ],
      "metadata": {
        "id": "3vo1LtYW6ksb"
      },
      "execution_count": null,
      "outputs": []
    },
    {
      "cell_type": "code",
      "source": [
        "datareal=pd.DataFrame({'X':X_test.flatten(),'Real Y':Y_test.flatten(),'Predict Y':Y_pred.flatten()})\n",
        "datareal"
      ],
      "metadata": {
        "id": "W69ryLZb43ig"
      },
      "execution_count": null,
      "outputs": []
    },
    {
      "cell_type": "code",
      "source": [
        "from sklearn.linear_model import LinearRegression\n",
        "from sklearn.model_selection import cross_val_score\n",
        "\n",
        "\n",
        "\n",
        "model=LinearRegression()\n",
        "scores=cross_val_score(model,X,Y,cv=10)\n",
        "\n",
        "scores\n",
        "\n",
        "mean=scores.mean()\n",
        "\n",
        "mean"
      ],
      "metadata": {
        "id": "fT8Z4FVSASnD"
      },
      "execution_count": null,
      "outputs": []
    },
    {
      "cell_type": "code",
      "source": [
        "from sklearn.linear_model import LinearRegression\n",
        "from sklearn.model_selection import cross_val_predict\n",
        "import matplotlib.pyplot as plt\n",
        "\n",
        "\n",
        "\n",
        "model=LinearRegression()\n",
        "scores=cross_val_predict(model,X,Y,cv=10)\n",
        "\n",
        "\n",
        "plt.scatter(Y,scores)\n",
        "plt.plot([Y.min(),Y.max()],[X.min(),X.max()])\n",
        "\n"
      ],
      "metadata": {
        "id": "wHNARA7WCH5q"
      },
      "execution_count": null,
      "outputs": []
    },
    {
      "cell_type": "code",
      "source": [
        "bills=pd.read_csv(\"https://gist.githubusercontent.com/javierIA/52184893d57d9a644e2362ee108cfa9e/raw/7297193ea28a0ebed89cb230034a0e62043fe288/bills.csv\")"
      ],
      "metadata": {
        "id": "mCf3x0h0FWAz"
      },
      "execution_count": null,
      "outputs": []
    },
    {
      "cell_type": "code",
      "source": [
        "bills.info()"
      ],
      "metadata": {
        "id": "dRllFnTkFcGf"
      },
      "execution_count": null,
      "outputs": []
    },
    {
      "cell_type": "code",
      "source": [
        "import numpy as np\n",
        "\n",
        "x=np.array(bills.drop([\"Unnamed: 0\",\"is_genuine\"],axis=1))\n",
        "x"
      ],
      "metadata": {
        "id": "U5LCTxKgFkfN"
      },
      "execution_count": null,
      "outputs": []
    },
    {
      "cell_type": "code",
      "source": [
        "y=np.array(bills[\"is_genuine\"])\n",
        "y\n",
        "\n",
        "x_train,x_test,y_train,y_test=train_test_split(x,y,test_size=0.2)\n"
      ],
      "metadata": {
        "id": "vGZ4SF0IGXpn"
      },
      "execution_count": null,
      "outputs": []
    },
    {
      "cell_type": "code",
      "source": [
        "from sklearn.neighbors import KNeighborsClassifier\n",
        "\n",
        "clf=KNeighborsClassifier(n_neighbors=5).fit(x_train,y_train)\n",
        "clf"
      ],
      "metadata": {
        "id": "E5j-diqOG4hm"
      },
      "execution_count": null,
      "outputs": []
    },
    {
      "cell_type": "code",
      "source": [
        "data= np.array([2,3,1,12,21,2]).reshape(1,-1)\n",
        "print(clf.predict(data))"
      ],
      "metadata": {
        "id": "G8UexLleHyGY"
      },
      "execution_count": null,
      "outputs": []
    },
    {
      "cell_type": "code",
      "source": [
        "clf.score(x_test,y_test)\n"
      ],
      "metadata": {
        "id": "NjglAqD7JJF7"
      },
      "execution_count": null,
      "outputs": []
    },
    {
      "cell_type": "code",
      "source": [],
      "metadata": {
        "id": "anMyRVZUJS4f"
      },
      "execution_count": null,
      "outputs": []
    }
  ]
}