{
 "cells": [
  {
   "cell_type": "code",
   "execution_count": 1,
   "metadata": {
    "id": "cLXQmuWTpuAI"
   },
   "outputs": [
    {
     "name": "stdout",
     "output_type": "stream",
     "text": [
      "appdirs==1.4.4\r\n",
      "apsw==3.40.0.0\r\n",
      "argcomplete==2.0.0\r\n",
      "argon2-cffi==21.1.0\r\n",
      "asgiref==3.5.2\r\n",
      "asttokens==2.0.8\r\n",
      "async-generator==1.10\r\n",
      "attrs==22.1.0\r\n",
      "backcall==0.1.0\r\n",
      "bcrypt==3.2.2\r\n",
      "Beaker==1.12.1\r\n",
      "beautifulsoup4==4.12.2\r\n",
      "bleach==4.0.0\r\n",
      "blivet==3.5.0\r\n",
      "blivet-gui==2.4.1\r\n",
      "Bottleneck==1.3.7\r\n",
      "Brlapi==0.8.4\r\n",
      "Brotli==1.0.9\r\n",
      "build==1.0.3\r\n",
      "cached-property==1.5.2\r\n",
      "certifi==2021.10.8\r\n",
      "cffi==1.15.1\r\n",
      "chardet==5.2.0\r\n",
      "charset-normalizer==2.1.0\r\n",
      "click==8.1.3\r\n",
      "conda==4.13.0\r\n",
      "conda-package-handling==1.8.1\r\n",
      "contourpy==1.0.7\r\n",
      "cryptography==37.0.2\r\n",
      "cson==0.8\r\n",
      "css-parser==1.0.7\r\n",
      "cssselect==1.1.0\r\n",
      "cupshelpers==1.0\r\n",
      "cycler==0.11.0\r\n",
      "cytoolz==0.11.2\r\n",
      "dasbus==1.6\r\n",
      "dbus-python==1.3.2\r\n",
      "decorator==5.1.1\r\n",
      "defusedxml==0.7.1\r\n",
      "distro==1.7.0\r\n",
      "Django==4.1.4\r\n",
      "dnspython==2.2.1\r\n",
      "docker==5.0.3\r\n",
      "docker-compose==1.29.2\r\n",
      "docker-pycreds==0.4.0\r\n",
      "dockerpty==0.4.1\r\n",
      "docopt==0.6.2\r\n",
      "entrypoints==0.3\r\n",
      "et-xmlfile==1.1.0\r\n",
      "executing==1.1.1\r\n",
      "fastjsonschema==2.16.1\r\n",
      "fedora-third-party==0.10\r\n",
      "feedparser==6.0.10\r\n",
      "file-magic==0.4.0\r\n",
      "fonttools==4.37.2\r\n",
      "fros==1.1\r\n",
      "frozendict==1.2\r\n",
      "fs==2.4.11\r\n",
      "fsspec==2022.11.0\r\n",
      "gpg==1.17.0\r\n",
      "greenlet==1.1.2\r\n",
      "h11==0.13.0\r\n",
      "html2text==2020.1.16\r\n",
      "html5-parser==0.4.10\r\n",
      "html5lib==1.1\r\n",
      "humanize==3.13.1\r\n",
      "idna==3.3\r\n",
      "ifaddr==0.1.7\r\n",
      "ipykernel==6.15.2\r\n",
      "ipython==8.5.0\r\n",
      "ipython-genutils==0.2.0\r\n",
      "jdcal==1.4.1\r\n",
      "jedi==0.18.1\r\n",
      "jeepney==0.8.0\r\n",
      "Jinja2==3.0.3\r\n",
      "jsonschema==4.10.0\r\n",
      "jupyter-core==4.10.0\r\n",
      "jupyter_client==7.4.2\r\n",
      "jupyterlab-pygments==0.1.2\r\n",
      "kiwisolver==1.4.4\r\n",
      "langtable==0.0.62\r\n",
      "libcomps==0.1.18\r\n",
      "libvirt-python==8.6.0\r\n",
      "lxml==4.9.1\r\n",
      "Mako==1.1.4\r\n",
      "Markdown==3.4.1\r\n",
      "MarkupSafe==2.1.1\r\n",
      "matplotlib==3.6.3\r\n",
      "matplotlib-inline==0.1.2\r\n",
      "mechanize==0.4.8\r\n",
      "mistune==0.8.4\r\n",
      "msgpack==1.0.4\r\n",
      "munkres==1.1.2\r\n",
      "nbclient==0.5.11\r\n",
      "nbconvert==6.4.5\r\n",
      "nbformat==5.4.0\r\n",
      "nest-asyncio==1.5.5\r\n",
      "netifaces==0.11.0\r\n",
      "nftables==0.1\r\n",
      "notebook==6.4.12\r\n",
      "numexpr==2.8.5\r\n",
      "numpy==1.24.3\r\n",
      "odfpy==1.4.1\r\n",
      "olefile==0.46\r\n",
      "openpyxl==3.0.10\r\n",
      "packaging==21.3\r\n",
      "pandas==2.0.3\r\n",
      "pandas-datareader==0.10.0\r\n",
      "pandocfilters==1.5.0\r\n",
      "paramiko==2.12.0\r\n",
      "parso==0.8.3\r\n",
      "Paste==3.5.0\r\n",
      "pexpect==4.8.0\r\n",
      "pickleshare==0.7.5\r\n",
      "pid==2.2.3\r\n",
      "Pillow==9.2.0\r\n",
      "ply==3.11\r\n",
      "productmd==1.36\r\n",
      "prometheus-client==0.13.1\r\n",
      "prompt-toolkit==3.0.29\r\n",
      "psutil==5.9.1\r\n",
      "psycopg2==2.9.6\r\n",
      "ptyprocess==0.6.0\r\n",
      "pure-eval==0.2.2\r\n",
      "pwquality==1.4.5\r\n",
      "py-cpuinfo==8.0.0\r\n",
      "pyarrow==9.0.0\r\n",
      "pyasn1==0.4.8\r\n",
      "pycairo==1.21.0\r\n",
      "pychm==0.8.6\r\n",
      "pycosat==0.6.3\r\n",
      "pycparser==2.20\r\n",
      "pycrypto==2.6.1\r\n",
      "pycups==2.0.1\r\n",
      "pycurl==7.45.1\r\n",
      "pyenchant==3.2.2\r\n",
      "Pygments==2.12.0\r\n",
      "PyGObject==3.42.2\r\n",
      "pykickstart==3.41\r\n",
      "PyMySQL==1.0.2\r\n",
      "PyNaCl==1.4.0\r\n",
      "pyOpenSSL==21.0.0\r\n",
      "pyparsing==3.0.9\r\n",
      "pyparted==3.12.0\r\n",
      "pyproject_hooks==1.0.0\r\n",
      "PyQt5==5.15.9\r\n",
      "PyQt5-sip==12.11.0\r\n",
      "PyQtWebEngine==5.15.4\r\n",
      "pyrsistent==0.18.1\r\n",
      "PySocks==1.7.1\r\n",
      "python-augeas==1.1.0\r\n",
      "python-dateutil==2.8.2\r\n",
      "python-dotenv==0.19.2\r\n",
      "python-meh==0.50\r\n",
      "python-snappy==0.6.1\r\n",
      "python-vlc==3.0.18122\r\n",
      "pytz==2023.3\r\n",
      "pyudev==0.23.2\r\n",
      "pyxdg==0.27\r\n",
      "PyYAML==6.0\r\n",
      "pyzmq==23.2.0\r\n",
      "QtPy==2.1.0\r\n",
      "regex==2023.6.3\r\n",
      "reportlab==4.0.4\r\n",
      "requests==2.28.1\r\n",
      "requests-file==1.5.1\r\n",
      "requests-ftp==0.3.1\r\n",
      "rpm==4.18.1\r\n",
      "ruamel.yaml==0.17.24\r\n",
      "ruamel.yaml.clib==0.2.7\r\n",
      "SciPy==1.8.1\r\n",
      "scour==0.38.2\r\n",
      "selinux==3.5\r\n",
      "Send2Trash==1.8.0\r\n",
      "sepolicy==3.5\r\n",
      "setools==4.4.0\r\n",
      "sgmllib3k==1.0.0\r\n",
      "simpleaudio==1.0.4\r\n",
      "simpleline==1.9.0\r\n",
      "six==1.16.0\r\n",
      "sos==4.4\r\n",
      "soupsieve==2.3.2.post1\r\n",
      "speg==0.3\r\n",
      "SQLAlchemy==1.4.49\r\n",
      "sqlparse==0.4.3\r\n",
      "stack-data==0.3.0\r\n",
      "systemd-python==235\r\n",
      "tables==3.7.0\r\n",
      "tabulate==0.9.0\r\n",
      "Tempita==0.5.2\r\n",
      "terminado==0.15.0\r\n",
      "testpath==0.6.0\r\n",
      "texttable==1.6.4\r\n",
      "toolz==0.11.2\r\n",
      "tornado==6.2\r\n",
      "tqdm==4.65.0\r\n",
      "traitlets==5.2.1.post0\r\n",
      "tzdata==2023.3\r\n",
      "urllib3==1.26.16\r\n",
      "uvicorn==0.15.0\r\n",
      "wcwidth==0.2.5\r\n",
      "webencodings==0.5.1\r\n",
      "websocket-client==1.3.3\r\n",
      "xarray==2023.7.0\r\n",
      "xlrd==2.0.1\r\n",
      "XlsxWriter==3.1.2\r\n",
      "xlwt==1.3.0\r\n",
      "zeroconf==0.38.7\r\n",
      "zstandard==0.19.0\r\n"
     ]
    }
   ],
   "source": [
    "!pip freeze"
   ]
  },
  {
   "cell_type": "code",
   "execution_count": 4,
   "metadata": {},
   "outputs": [
    {
     "name": "stdout",
     "output_type": "stream",
     "text": [
      "Defaulting to user installation because normal site-packages is not writeable\n",
      "Collecting sklearn\n",
      "  Downloading sklearn-0.0.post10.tar.gz (3.6 kB)\n",
      "  Preparing metadata (setup.py) ... \u001b[?25lerror\n",
      "  \u001b[1;31merror\u001b[0m: \u001b[1msubprocess-exited-with-error\u001b[0m\n",
      "  \n",
      "  \u001b[31m×\u001b[0m \u001b[32mpython setup.py egg_info\u001b[0m did not run successfully.\n",
      "  \u001b[31m│\u001b[0m exit code: \u001b[1;36m1\u001b[0m\n",
      "  \u001b[31m╰─>\u001b[0m \u001b[31m[18 lines of output]\u001b[0m\n",
      "  \u001b[31m   \u001b[0m The 'sklearn' PyPI package is deprecated, use 'scikit-learn'\n",
      "  \u001b[31m   \u001b[0m rather than 'sklearn' for pip commands.\n",
      "  \u001b[31m   \u001b[0m \n",
      "  \u001b[31m   \u001b[0m Here is how to fix this error in the main use cases:\n",
      "  \u001b[31m   \u001b[0m - use 'pip install scikit-learn' rather than 'pip install sklearn'\n",
      "  \u001b[31m   \u001b[0m - replace 'sklearn' by 'scikit-learn' in your pip requirements files\n",
      "  \u001b[31m   \u001b[0m   (requirements.txt, setup.py, setup.cfg, Pipfile, etc ...)\n",
      "  \u001b[31m   \u001b[0m - if the 'sklearn' package is used by one of your dependencies,\n",
      "  \u001b[31m   \u001b[0m   it would be great if you take some time to track which package uses\n",
      "  \u001b[31m   \u001b[0m   'sklearn' instead of 'scikit-learn' and report it to their issue tracker\n",
      "  \u001b[31m   \u001b[0m - as a last resort, set the environment variable\n",
      "  \u001b[31m   \u001b[0m   SKLEARN_ALLOW_DEPRECATED_SKLEARN_PACKAGE_INSTALL=True to avoid this error\n",
      "  \u001b[31m   \u001b[0m \n",
      "  \u001b[31m   \u001b[0m More information is available at\n",
      "  \u001b[31m   \u001b[0m https://github.com/scikit-learn/sklearn-pypi-package\n",
      "  \u001b[31m   \u001b[0m \n",
      "  \u001b[31m   \u001b[0m If the previous advice does not cover your use case, feel free to report it at\n",
      "  \u001b[31m   \u001b[0m https://github.com/scikit-learn/sklearn-pypi-package/issues/new\n",
      "  \u001b[31m   \u001b[0m \u001b[31m[end of output]\u001b[0m\n",
      "  \n",
      "  \u001b[1;35mnote\u001b[0m: This error originates from a subprocess, and is likely not a problem with pip.\n",
      "\u001b[1;31merror\u001b[0m: \u001b[1mmetadata-generation-failed\u001b[0m\n",
      "\n",
      "\u001b[31m×\u001b[0m Encountered error while generating package metadata.\n",
      "\u001b[31m╰─>\u001b[0m See above for output.\n",
      "\n",
      "\u001b[1;35mnote\u001b[0m: This is an issue with the package mentioned above, not pip.\n",
      "\u001b[1;36mhint\u001b[0m: See above for details.\n",
      "\u001b[?25h"
     ]
    }
   ],
   "source": [
    "!pip install sklearn"
   ]
  },
  {
   "cell_type": "code",
   "execution_count": 2,
   "metadata": {
    "id": "PLqqQbUhuZYS"
   },
   "outputs": [
    {
     "ename": "ModuleNotFoundError",
     "evalue": "No module named 'sklearn'",
     "output_type": "error",
     "traceback": [
      "\u001b[0;31m---------------------------------------------------------------------------\u001b[0m",
      "\u001b[0;31mModuleNotFoundError\u001b[0m                       Traceback (most recent call last)",
      "Cell \u001b[0;32mIn [2], line 1\u001b[0m\n\u001b[0;32m----> 1\u001b[0m \u001b[38;5;28;01mfrom\u001b[39;00m \u001b[38;5;21;01msklearn\u001b[39;00m\u001b[38;5;21;01m.\u001b[39;00m\u001b[38;5;21;01mmodel_selection\u001b[39;00m \u001b[38;5;28;01mimport\u001b[39;00m train_test_split\n\u001b[1;32m      2\u001b[0m \u001b[38;5;28;01mimport\u001b[39;00m \u001b[38;5;21;01mpandas\u001b[39;00m \u001b[38;5;28;01mas\u001b[39;00m \u001b[38;5;21;01mpd\u001b[39;00m\n\u001b[1;32m      5\u001b[0m data\u001b[38;5;241m=\u001b[39mpd\u001b[38;5;241m.\u001b[39mread_csv(\u001b[38;5;124m\"\u001b[39m\u001b[38;5;124mhttps://gist.githubusercontent.com/javierIA/651810e8710cf37c5533aba164d18aa8/raw/68ad93a282f8dc92bc933284a645e9d6b301c6c4/data\u001b[39m\u001b[38;5;124m\"\u001b[39m)\n",
      "\u001b[0;31mModuleNotFoundError\u001b[0m: No module named 'sklearn'"
     ]
    }
   ],
   "source": [
    "from sklearn.model_selection import train_test_split\n",
    "import pandas as pd\n",
    "\n",
    "\n",
    "data=pd.read_csv(\"https://gist.githubusercontent.com/javierIA/651810e8710cf37c5533aba164d18aa8/raw/68ad93a282f8dc92bc933284a645e9d6b301c6c4/data\")"
   ]
  },
  {
   "cell_type": "code",
   "execution_count": null,
   "metadata": {
    "id": "f7uFM4FRvWzv"
   },
   "outputs": [],
   "source": [
    "data"
   ]
  },
  {
   "cell_type": "code",
   "execution_count": null,
   "metadata": {
    "id": "IeXEc0RXvpw1"
   },
   "outputs": [],
   "source": [
    "print(data.info())\n",
    "#X=[3123123,3123,1323,1331323]\n",
    "X=data['reading score'].values\n",
    "Y=data['writing score'].values\n",
    "X=X.reshape(-1,1)"
   ]
  },
  {
   "cell_type": "code",
   "execution_count": null,
   "metadata": {
    "id": "vUrCm8WdwTda"
   },
   "outputs": [],
   "source": [
    "X_train,X_test,Y_train,Y_test=train_test_split(X,Y,test_size=0.2)"
   ]
  },
  {
   "cell_type": "code",
   "execution_count": null,
   "metadata": {
    "id": "dFQJEMH6y3e6"
   },
   "outputs": [],
   "source": [
    "from sklearn.linear_model import Ridge\n",
    "reg=Ridge()\n",
    "reg.fit(X_train,Y_train)"
   ]
  },
  {
   "cell_type": "code",
   "execution_count": null,
   "metadata": {
    "id": "dfnjHikc05Ds"
   },
   "outputs": [],
   "source": [
    "test=reg.predict([[90]])\n",
    "test"
   ]
  },
  {
   "cell_type": "code",
   "execution_count": 3,
   "metadata": {
    "id": "ytljDHKk2Hjc"
   },
   "outputs": [
    {
     "ename": "ModuleNotFoundError",
     "evalue": "No module named 'sklearn'",
     "output_type": "error",
     "traceback": [
      "\u001b[0;31m---------------------------------------------------------------------------\u001b[0m",
      "\u001b[0;31mModuleNotFoundError\u001b[0m                       Traceback (most recent call last)",
      "Cell \u001b[0;32mIn [3], line 1\u001b[0m\n\u001b[0;32m----> 1\u001b[0m \u001b[38;5;28;01mfrom\u001b[39;00m \u001b[38;5;21;01msklearn\u001b[39;00m\u001b[38;5;21;01m.\u001b[39;00m\u001b[38;5;21;01mmetrics\u001b[39;00m \u001b[38;5;28;01mimport\u001b[39;00m mean_squared_error\n\u001b[1;32m      3\u001b[0m Y_pred\u001b[38;5;241m=\u001b[39mreg\u001b[38;5;241m.\u001b[39mpredict(X_test)\n\u001b[1;32m      4\u001b[0m \u001b[38;5;28mprint\u001b[39m(mean_squared_error(Y_test,Y_pred))\n",
      "\u001b[0;31mModuleNotFoundError\u001b[0m: No module named 'sklearn'"
     ]
    }
   ],
   "source": [
    "from sklearn.metrics import mean_squared_error\n",
    "\n",
    "Y_pred=reg.predict(X_test)\n",
    "print(mean_squared_error(Y_test,Y_pred))"
   ]
  },
  {
   "cell_type": "code",
   "execution_count": null,
   "metadata": {
    "id": "z55IYBc_21ha"
   },
   "outputs": [],
   "source": [
    "X_flat=X_train.flatten()\n",
    "Y_hat=reg.predict(X_train)"
   ]
  },
  {
   "cell_type": "code",
   "execution_count": null,
   "metadata": {
    "id": "vMyUNyKg3OjN"
   },
   "outputs": [],
   "source": [
    "import seaborn as sns\n",
    "\n",
    "sns.scatterplot(x=X_flat,y=Y_train)\n",
    "sns.lineplot(x=X_flat,y=Y_hat,color='r')\n",
    "\n"
   ]
  },
  {
   "cell_type": "code",
   "execution_count": null,
   "metadata": {
    "id": "9_AJIK2c4dCW"
   },
   "outputs": [],
   "source": [
    "print(reg.intercept_)"
   ]
  },
  {
   "cell_type": "code",
   "execution_count": null,
   "metadata": {
    "id": "3vo1LtYW6ksb"
   },
   "outputs": [],
   "source": [
    "Y_pred=reg.predict(X_test)\n"
   ]
  },
  {
   "cell_type": "code",
   "execution_count": null,
   "metadata": {
    "id": "W69ryLZb43ig"
   },
   "outputs": [],
   "source": [
    "datareal=pd.DataFrame({'X':X_test.flatten(),'Real Y':Y_test.flatten(),'Predict Y':Y_pred.flatten()})\n",
    "datareal"
   ]
  },
  {
   "cell_type": "code",
   "execution_count": null,
   "metadata": {
    "id": "fT8Z4FVSASnD"
   },
   "outputs": [],
   "source": [
    "from sklearn.linear_model import LinearRegression\n",
    "from sklearn.model_selection import cross_val_score\n",
    "\n",
    "\n",
    "\n",
    "model=LinearRegression()\n",
    "scores=cross_val_score(model,X,Y,cv=10)\n",
    "\n",
    "scores\n",
    "\n",
    "mean=scores.mean()\n",
    "\n",
    "mean"
   ]
  },
  {
   "cell_type": "code",
   "execution_count": null,
   "metadata": {
    "id": "wHNARA7WCH5q"
   },
   "outputs": [],
   "source": [
    "from sklearn.linear_model import LinearRegression\n",
    "from sklearn.model_selection import cross_val_predict\n",
    "import matplotlib.pyplot as plt\n",
    "\n",
    "\n",
    "\n",
    "model=LinearRegression()\n",
    "scores=cross_val_predict(model,X,Y,cv=10)\n",
    "\n",
    "\n",
    "plt.scatter(Y,scores)\n",
    "plt.plot([Y.min(),Y.max()],[X.min(),X.max()])\n",
    "\n"
   ]
  },
  {
   "cell_type": "code",
   "execution_count": null,
   "metadata": {
    "id": "mCf3x0h0FWAz"
   },
   "outputs": [],
   "source": [
    "bills=pd.read_csv(\"https://gist.githubusercontent.com/javierIA/52184893d57d9a644e2362ee108cfa9e/raw/7297193ea28a0ebed89cb230034a0e62043fe288/bills.csv\")"
   ]
  },
  {
   "cell_type": "code",
   "execution_count": null,
   "metadata": {
    "id": "dRllFnTkFcGf"
   },
   "outputs": [],
   "source": [
    "bills.info()"
   ]
  },
  {
   "cell_type": "code",
   "execution_count": null,
   "metadata": {
    "id": "U5LCTxKgFkfN"
   },
   "outputs": [],
   "source": [
    "import numpy as np\n",
    "\n",
    "x=np.array(bills.drop([\"Unnamed: 0\",\"is_genuine\"],axis=1))\n",
    "x"
   ]
  },
  {
   "cell_type": "code",
   "execution_count": null,
   "metadata": {
    "id": "vGZ4SF0IGXpn"
   },
   "outputs": [],
   "source": [
    "y=np.array(bills[\"is_genuine\"])\n",
    "y\n",
    "\n",
    "x_train,x_test,y_train,y_test=train_test_split(x,y,test_size=0.2)\n"
   ]
  },
  {
   "cell_type": "code",
   "execution_count": null,
   "metadata": {
    "id": "E5j-diqOG4hm"
   },
   "outputs": [],
   "source": [
    "from sklearn.neighbors import KNeighborsClassifier\n",
    "\n",
    "clf=KNeighborsClassifier(n_neighbors=5).fit(x_train,y_train)\n",
    "clf"
   ]
  },
  {
   "cell_type": "code",
   "execution_count": null,
   "metadata": {
    "id": "G8UexLleHyGY"
   },
   "outputs": [],
   "source": [
    "data= np.array([2,3,1,12,21,2]).reshape(1,-1)\n",
    "print(clf.predict(data))"
   ]
  },
  {
   "cell_type": "code",
   "execution_count": null,
   "metadata": {
    "id": "NjglAqD7JJF7"
   },
   "outputs": [],
   "source": [
    "clf.score(x_test,y_test)\n"
   ]
  },
  {
   "cell_type": "code",
   "execution_count": null,
   "metadata": {
    "id": "anMyRVZUJS4f"
   },
   "outputs": [],
   "source": []
  }
 ],
 "metadata": {
  "accelerator": "GPU",
  "colab": {
   "gpuType": "T4",
   "private_outputs": true,
   "provenance": []
  },
  "kernelspec": {
   "display_name": "Python 3 (ipykernel)",
   "language": "python",
   "name": "python3"
  },
  "language_info": {
   "codemirror_mode": {
    "name": "ipython",
    "version": 3
   },
   "file_extension": ".py",
   "mimetype": "text/x-python",
   "name": "python",
   "nbconvert_exporter": "python",
   "pygments_lexer": "ipython3",
   "version": "3.11.4"
  }
 },
 "nbformat": 4,
 "nbformat_minor": 1
}
